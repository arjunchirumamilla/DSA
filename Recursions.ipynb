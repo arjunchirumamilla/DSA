{
  "nbformat": 4,
  "nbformat_minor": 0,
  "metadata": {
    "colab": {
      "name": "Recursions.ipynb",
      "provenance": [],
      "collapsed_sections": [],
      "authorship_tag": "ABX9TyNQbI0rpSnyq+M7oV+E1nDz",
      "include_colab_link": true
    },
    "kernelspec": {
      "name": "python3",
      "display_name": "Python 3"
    },
    "language_info": {
      "name": "python"
    }
  },
  "cells": [
    {
      "cell_type": "markdown",
      "metadata": {
        "id": "view-in-github",
        "colab_type": "text"
      },
      "source": [
        "<a href=\"https://colab.research.google.com/github/pavan-elisetty/DSA-Jovian/blob/main/Recursions.ipynb\" target=\"_parent\"><img src=\"https://colab.research.google.com/assets/colab-badge.svg\" alt=\"Open In Colab\"/></a>"
      ]
    },
    {
      "cell_type": "code",
      "metadata": {
        "id": "7we8yUr7cV_c"
      },
      "source": [
        "# implementing factorial\n",
        "\n",
        "def fact(n):\n",
        "\n",
        "  if (n<=1) :\n",
        "    return n \n",
        "\n",
        "  return n*fact(n-1)"
      ],
      "execution_count": 16,
      "outputs": []
    },
    {
      "cell_type": "code",
      "metadata": {
        "colab": {
          "base_uri": "https://localhost:8080/"
        },
        "id": "c2VF2GxBch9L",
        "outputId": "e00e5b0e-5332-434e-d1a9-5969592c26a4"
      },
      "source": [
        "fact(5)"
      ],
      "execution_count": 17,
      "outputs": [
        {
          "output_type": "execute_result",
          "data": {
            "text/plain": [
              "120"
            ]
          },
          "metadata": {},
          "execution_count": 17
        }
      ]
    },
    {
      "cell_type": "code",
      "metadata": {
        "id": "MMlz9E4Rehm5"
      },
      "source": [
        "def binary_search(a , target , low , high):\n",
        "  mid = (low+high)//2\n",
        "  if low > high :\n",
        "    return False\n",
        "  elif a[mid]==target:\n",
        "    return True\n",
        "  elif a[mid]> target:\n",
        "    return binary_search(a , target , low , mid-1)\n",
        "  else:\n",
        "    return binary_search(a , target , mid+1 , high)\n",
        "    \n"
      ],
      "execution_count": 20,
      "outputs": []
    },
    {
      "cell_type": "code",
      "metadata": {
        "colab": {
          "base_uri": "https://localhost:8080/"
        },
        "id": "eYC3jh5QiR7Y",
        "outputId": "11bf124d-9de8-4e95-f4a6-60e6c15cdbe7"
      },
      "source": [
        "a=[1,2,3,4,5]\n",
        "binary_search(a,3,0,len(a)-1)"
      ],
      "execution_count": 23,
      "outputs": [
        {
          "output_type": "execute_result",
          "data": {
            "text/plain": [
              "True"
            ]
          },
          "metadata": {},
          "execution_count": 23
        }
      ]
    },
    {
      "cell_type": "code",
      "metadata": {
        "id": "ZjyPkwHqjp6t"
      },
      "source": [
        ""
      ],
      "execution_count": null,
      "outputs": []
    }
  ]
}