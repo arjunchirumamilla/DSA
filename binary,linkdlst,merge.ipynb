{
  "nbformat": 4,
  "nbformat_minor": 0,
  "metadata": {
    "colab": {
      "name": "binary,linkdlst,merge.ipynb",
      "provenance": [],
      "collapsed_sections": [],
      "authorship_tag": "ABX9TyPSrUxg3cCI6nm4Vy7z3DFh",
      "include_colab_link": true
    },
    "kernelspec": {
      "display_name": "Python 3",
      "name": "python3"
    },
    "language_info": {
      "name": "python"
    }
  },
  "cells": [
    {
      "cell_type": "markdown",
      "metadata": {
        "id": "view-in-github",
        "colab_type": "text"
      },
      "source": [
        "<a href=\"https://colab.research.google.com/github/pavan-elisetty/DSA-Jovian/blob/main/binary%2Clinkdlst%2Cmerge.ipynb\" target=\"_parent\"><img src=\"https://colab.research.google.com/assets/colab-badge.svg\" alt=\"Open In Colab\"/></a>"
      ]
    },
    {
      "cell_type": "code",
      "metadata": {
        "id": "wMi5QeqbV9fj"
      },
      "source": [
        "#binary \n",
        "def binary(ls , target):\n",
        "  i=0\n",
        "  j = len(ls)-1\n",
        "  while i<=j:\n",
        "    mid = (i+j)//2\n",
        "    if ls[mid]==target:\n",
        "      return mid\n",
        "    elif ls[mid]<target:\n",
        "      i=mid+1\n",
        "    else:\n",
        "      j=mid-1\n",
        "  return -1"
      ],
      "execution_count": null,
      "outputs": []
    },
    {
      "cell_type": "code",
      "metadata": {
        "colab": {
          "base_uri": "https://localhost:8080/"
        },
        "id": "1V1VQU1vfL_H",
        "outputId": "edc37380-28a2-4faf-9370-b979aa5bf17a"
      },
      "source": [
        "binary([1,2,3,4,5,6],6)"
      ],
      "execution_count": null,
      "outputs": [
        {
          "output_type": "execute_result",
          "data": {
            "text/plain": [
              "5"
            ]
          },
          "metadata": {
            "tags": []
          },
          "execution_count": 21
        }
      ]
    },
    {
      "cell_type": "code",
      "metadata": {
        "id": "UTaMduBSfQl5"
      },
      "source": [
        "#recursive binary\n",
        "def rec_binary(ls , target):\n",
        "  \n",
        "  if len(ls)==0:\n",
        "    return False\n",
        "  else:\n",
        "    mid = (len(ls))//2\n",
        "    if ls[mid]==target:\n",
        "      return True\n",
        "    elif ls[mid]>target:\n",
        "      return rec_binary(ls[:mid],target)\n",
        "    else:\n",
        "      return rec_binary(ls[mid+1:],target)\n",
        "      "
      ],
      "execution_count": null,
      "outputs": []
    },
    {
      "cell_type": "code",
      "metadata": {
        "colab": {
          "base_uri": "https://localhost:8080/"
        },
        "id": "jdlW1TvfimiD",
        "outputId": "bcb6d2f4-da85-4367-e58c-858fadfe6324"
      },
      "source": [
        "rec_binary([1,2,3,4,5,6],6)"
      ],
      "execution_count": null,
      "outputs": [
        {
          "output_type": "execute_result",
          "data": {
            "text/plain": [
              "True"
            ]
          },
          "metadata": {
            "tags": []
          },
          "execution_count": 23
        }
      ]
    },
    {
      "cell_type": "code",
      "metadata": {
        "id": "Iwx44-x6GesG"
      },
      "source": [
        "# Linked List\n",
        "\n",
        "class Node:\n",
        "  data = None\n",
        "  next_node = None\n",
        "  \n",
        "  \"\"\"A simple LinkedList\"\"\"\n",
        "\n",
        "  def __init__(self , data):\n",
        "    self.data = data\n",
        "    self.next_node = None\n",
        "  \n",
        "  def __repr__(self):\n",
        "    return \"<Node data is %s>\" %self.data"
      ],
      "execution_count": null,
      "outputs": []
    },
    {
      "cell_type": "code",
      "metadata": {
        "colab": {
          "base_uri": "https://localhost:8080/"
        },
        "id": "ujuJ6XVJTzBF",
        "outputId": "c27affbc-6c1a-46e8-a9b6-0a8665c3a35f"
      },
      "source": [
        "node1 = Node(10)\n",
        "node1"
      ],
      "execution_count": null,
      "outputs": [
        {
          "output_type": "execute_result",
          "data": {
            "text/plain": [
              "<Node data is 10>"
            ]
          },
          "metadata": {
            "tags": []
          },
          "execution_count": 25
        }
      ]
    },
    {
      "cell_type": "code",
      "metadata": {
        "colab": {
          "base_uri": "https://localhost:8080/"
        },
        "id": "Ab4mdGVYRbYy",
        "outputId": "fbd41559-575d-4ddd-dc98-b2253839fe4b"
      },
      "source": [
        "node2=Node(20)\n",
        "node2"
      ],
      "execution_count": null,
      "outputs": [
        {
          "output_type": "execute_result",
          "data": {
            "text/plain": [
              "<Node data is 20>"
            ]
          },
          "metadata": {
            "tags": []
          },
          "execution_count": 26
        }
      ]
    },
    {
      "cell_type": "code",
      "metadata": {
        "colab": {
          "base_uri": "https://localhost:8080/"
        },
        "id": "SZk1o8xaRd9P",
        "outputId": "1ed8b845-bb69-43b6-9ead-e4a2d3cad62c"
      },
      "source": [
        "node1.next_node = node2\n",
        "node1.next_node"
      ],
      "execution_count": null,
      "outputs": [
        {
          "output_type": "execute_result",
          "data": {
            "text/plain": [
              "<Node data is 20>"
            ]
          },
          "metadata": {
            "tags": []
          },
          "execution_count": 27
        }
      ]
    },
    {
      "cell_type": "code",
      "metadata": {
        "id": "TtycbTpkfKcZ"
      },
      "source": [
        "class Node:\n",
        "    \"\"\"\n",
        "    An object for storing a single node in a linked list\n",
        "\n",
        "    Attributes:\n",
        "        data: Data stored in node\n",
        "        next_node: Reference to next node in linked list\n",
        "    \"\"\"\n",
        "\n",
        "    def __init__(self, data, next_node = None):\n",
        "        self.data = data\n",
        "        self.next_node = next_node\n",
        "\n",
        "    def __repr__(self):\n",
        "        return \"<Node data: %s>\" % self.data\n",
        "\n",
        "class SinglyLinkedList:\n",
        "    \"\"\"\n",
        "    Linear data structure that stores values in nodes. The list maintains a reference to the first node, also called head. Each node points to the next node in the list\n",
        "\n",
        "    Attributes:\n",
        "        head: The head node of the list\n",
        "    \"\"\"\n",
        "\n",
        "    def __init__(self):\n",
        "        self.head = None\n",
        "        # Maintaining a count attribute allows for len() to be implemented in\n",
        "        # constant time\n",
        "        self.__count = 0\n",
        "\n",
        "    def is_empty(self):\n",
        "        \"\"\"\n",
        "        Determines if the linked list is empty\n",
        "        Takes O(1) time\n",
        "        \"\"\"\n",
        "\n",
        "        return self.head is None\n",
        "\n",
        "    def __len__(self):\n",
        "        \"\"\"\n",
        "        Returns the length of the linked list\n",
        "        Takesn O(1) time\n",
        "        \"\"\"\n",
        "\n",
        "        return self.__count\n",
        "\n",
        "    def add(self, data):\n",
        "        \"\"\"\n",
        "        Adds new Node containing data to head of the list\n",
        "        Also called prepj\n",
        "        Takes O(1) time\n",
        "        \"\"\"\n",
        "\n",
        "        new_head = Node(data, next_node=self.head)\n",
        "        self.head = new_head\n",
        "        self.__count += 1\n",
        "    \n",
        "    def reverse(self):\n",
        "      \n",
        "      current = self.head     # none <- 1 <- 2 <- 3 Head\n",
        "      prev=None                        #  Head 1 -> 2 -> 3 - > none \n",
        "      while current:\n",
        "        \n",
        "        next = current.next_node        #next =2\n",
        "        current.next_node = prev             #1 = none\n",
        "        prev = current                  # prev = 1\n",
        "        current = next                  # current 2\n",
        "      \n",
        "      self.head = prev                  # assigning the final element in head\n",
        "        \n",
        "\n",
        "\n",
        "\n",
        "    def search(self, key):\n",
        "        \"\"\"\n",
        "        Search for the first node containing data that matches the key\n",
        "        Returns the node or `None` if not found\n",
        "        Takes O(n) time\n",
        "        \"\"\"\n",
        "\n",
        "        current = self.head\n",
        "\n",
        "        while current:\n",
        "            if current.data == key:\n",
        "                return current\n",
        "            else:\n",
        "                current = current.next_node\n",
        "        return None\n",
        "\n",
        "    def insert(self, data, index):\n",
        "        \"\"\"\n",
        "        Inserts a new Node containing data at index position\n",
        "        Insertion takes O(1) time but finding node at insertion point takes\n",
        "        O(n) time.\n",
        "        Takes overall O(n) time.\n",
        "        \"\"\"\n",
        "\n",
        "        if index >= self.__count:\n",
        "            raise IndexError('index out of range')\n",
        "\n",
        "        if index == 0:\n",
        "            self.add(data)\n",
        "            return\n",
        "        if index > 0:\n",
        "            new = Node(data)\n",
        "            position = index\n",
        "            current = self.head\n",
        "\n",
        "            while position > 1:\n",
        "                current = current.next_node\n",
        "                position -= 1\n",
        "\n",
        "            prev_node = current\n",
        "            next_node = current.next_node\n",
        "\n",
        "            prev_node.next_node = new\n",
        "            new.next_node = next_node\n",
        "\n",
        "        self.__count += 1\n",
        "\n",
        "    def node_at_index(self, index):\n",
        "        \"\"\"\n",
        "        Returns the Node at specified index\n",
        "        Takes O(n) time\n",
        "        \"\"\"\n",
        "\n",
        "        if index >= self.__count:\n",
        "            raise IndexError('index out of range')\n",
        "\n",
        "        if index == 0:\n",
        "            return self.head\n",
        "\n",
        "        current = self.head\n",
        "        position = 0\n",
        "\n",
        "        while position < index:\n",
        "            current = current.next_node\n",
        "            position += 1\n",
        "\n",
        "        return current\n",
        "\n",
        "    def remove(self, key):\n",
        "        \"\"\"\n",
        "        Removes Node containing data that matches the key\n",
        "        Returns the node or `None` if key doesn't exist\n",
        "        Takes O(n) time\n",
        "        \"\"\"\n",
        "\n",
        "        current = self.head\n",
        "        previous = None\n",
        "        found = False\n",
        "\n",
        "        while current and not found:\n",
        "            if current.data == key and current is self.head:\n",
        "                found = True\n",
        "                self.head = current.next_node\n",
        "                self.__count -= 1\n",
        "                return current\n",
        "            elif current.data == key:\n",
        "                found = True\n",
        "                previous.next_node = current.next_node\n",
        "                self.__count -= 1\n",
        "                return current\n",
        "            else:\n",
        "                previous = current\n",
        "                current = current.next_node\n",
        "\n",
        "        return None\n",
        "\n",
        "    def remove_at_index(self, index):\n",
        "        \"\"\"\n",
        "        Removes Node at specified index\n",
        "        Takes O(n) time\n",
        "        \"\"\"\n",
        "\n",
        "        if index >= self.__count:\n",
        "            raise IndexError('index out of range')\n",
        "\n",
        "        current = self.head\n",
        "\n",
        "        if index == 0:\n",
        "            self.head = current.next_node\n",
        "            self.__count -= 1\n",
        "            return current\n",
        "\n",
        "        position = index\n",
        "\n",
        "        while position > 1:\n",
        "            current = current.next_node\n",
        "            position -= 1\n",
        "\n",
        "        prev_node = current\n",
        "        current = current.next_node\n",
        "        next_node = current.next_node\n",
        "\n",
        "        prev_node.next_node = next_node\n",
        "        self.__count -= 1\n",
        "\n",
        "        return current\n",
        "\n",
        "\n",
        "    def __iter__(self):\n",
        "        current = self.head\n",
        "\n",
        "        while current:\n",
        "            yield current\n",
        "            current = current.next_node\n",
        "\n",
        "\n",
        "    def __repr__(self):\n",
        "        \"\"\"\n",
        "        Return a string representation of the list.\n",
        "        Takes O(n) time.\n",
        "        \"\"\"\n",
        "        nodes = []\n",
        "        current = self.head\n",
        "        while current:\n",
        "            if current is self.head:\n",
        "                nodes.append(\"[Head: %s]\" % current.data)\n",
        "            elif current.next_node is None:\n",
        "                nodes.append(\"[Tail: %s]\" % current.data)\n",
        "            else:\n",
        "                nodes.append(\"[%s]\" % current.data)\n",
        "            current = current.next_node\n",
        "        return  '-> '.join(nodes)\n",
        "\n"
      ],
      "execution_count": null,
      "outputs": []
    },
    {
      "cell_type": "code",
      "metadata": {
        "id": "LO7_Xd3xU1e7"
      },
      "source": [
        "l = SinglyLinkedList()\n",
        "l.head = Node(1)\n",
        "two=Node(2)\n",
        "three= Node(3)\n",
        "l.head.next_node=two\n",
        "two.next_node = three\n"
      ],
      "execution_count": null,
      "outputs": []
    },
    {
      "cell_type": "code",
      "metadata": {
        "colab": {
          "base_uri": "https://localhost:8080/"
        },
        "id": "jQoO4m6nVCwW",
        "outputId": "d6b77f6b-9de5-4180-8327-8e1009884d47"
      },
      "source": [
        "l"
      ],
      "execution_count": null,
      "outputs": [
        {
          "output_type": "execute_result",
          "data": {
            "text/plain": [
              "[Head: 1]-> [2]-> [Tail: 3]"
            ]
          },
          "metadata": {
            "tags": []
          },
          "execution_count": 66
        }
      ]
    },
    {
      "cell_type": "code",
      "metadata": {
        "colab": {
          "base_uri": "https://localhost:8080/"
        },
        "id": "6B1JiNLsVvtp",
        "outputId": "767d040c-3c0b-4d4f-ac98-e1e3e7f381bb"
      },
      "source": [
        "l.reverse()\n",
        "l"
      ],
      "execution_count": null,
      "outputs": [
        {
          "output_type": "execute_result",
          "data": {
            "text/plain": [
              "[Head: 3]-> [2]-> [Tail: 1]"
            ]
          },
          "metadata": {
            "tags": []
          },
          "execution_count": 67
        }
      ]
    },
    {
      "cell_type": "code",
      "metadata": {
        "id": "5ioP5tJrj_rA"
      },
      "source": [
        "# merge sort on a list\n",
        "''' implementation : 84513267\n",
        "8451        3267\n",
        "84   51   \n",
        "8 4  \n",
        "     5  1\n",
        "48    15\n",
        "1458\n",
        "          23   67\n",
        "          2 3 '''  \n",
        "\n",
        "def merge_sort(arr):     # knlogn  complexity\n",
        "  if len(arr)<=1:    # exit condition\n",
        "    return arr\n",
        "  \n",
        "  mid = len(arr)//2\n",
        "  left  =  arr[:mid]    # python takes k time for slicing \n",
        "  right =  arr[mid:]\n",
        "  \n",
        "  left_half = merge_sort(left)     #runs for logn time\n",
        "  right_half = merge_sort(right)\n",
        "\n",
        "  return merge_two_sorted_lists(left_half,right_half)\n",
        "\n",
        "\n",
        "def merge_two_sorted_lists(a,b):   #n comparisions\n",
        "\n",
        "  sorted_list = []\n",
        "  i = 0 \n",
        "  j = 0\n",
        "  \n",
        "  while True:\n",
        "    if i==len(a) or j == len(b):\n",
        "      if i==len(a) and j != len(b):\n",
        "        sorted_list.extend(b[j:])\n",
        "      elif i!=len(a) and j == len(b):\n",
        "        sorted_list.extend(a[i:])\n",
        "      break \n",
        "\n",
        "    if a[i]>b[j]:\n",
        "      sorted_list.append(b[j])\n",
        "      j+=1\n",
        "#      print(sorted_list)\n",
        "    \n",
        "    elif a[i]<b[j]:\n",
        "      sorted_list.append(a[i])\n",
        "      i+=1\n",
        "#      print(sorted_list)\n",
        "  #print(sorted_list) \n",
        "  return sorted_list\n",
        "    \n"
      ],
      "execution_count": null,
      "outputs": []
    },
    {
      "cell_type": "code",
      "metadata": {
        "colab": {
          "base_uri": "https://localhost:8080/"
        },
        "id": "9HvJUjniw30q",
        "outputId": "2f271d7f-d1c3-4eac-a181-c5238a596716"
      },
      "source": [
        "a=[5, 3,8, 12,2, 56, 72,1, 84, 100]\n",
        "merge_sort(a)"
      ],
      "execution_count": null,
      "outputs": [
        {
          "output_type": "execute_result",
          "data": {
            "text/plain": [
              "[1, 2, 3, 5, 8, 12, 56, 72, 84, 100]"
            ]
          },
          "metadata": {
            "tags": []
          },
          "execution_count": 49
        }
      ]
    },
    {
      "cell_type": "code",
      "metadata": {
        "colab": {
          "base_uri": "https://localhost:8080/"
        },
        "id": "jLUMT0H13nF7",
        "outputId": "02216677-3797-4ad0-db23-70829987b54f"
      },
      "source": [
        "merge_two_sorted_lists([1,2,3,4,5],[6,7,8,9])"
      ],
      "execution_count": null,
      "outputs": [
        {
          "output_type": "stream",
          "text": [
            "[1, 2, 3, 4, 5, 6, 7, 8, 9]\n"
          ],
          "name": "stdout"
        },
        {
          "output_type": "execute_result",
          "data": {
            "text/plain": [
              "[1, 2, 3, 4, 5, 6, 7, 8, 9]"
            ]
          },
          "metadata": {
            "tags": []
          },
          "execution_count": 45
        }
      ]
    },
    {
      "cell_type": "code",
      "metadata": {
        "id": "_5YSkMSh4Fsq"
      },
      "source": [
        "# merge sort on a linkedin\n",
        "\n",
        "def merge_linked(linkedlist):\n",
        "  \n",
        "  \"\"\" sorts a linked list in ascending order\n",
        "      recursively divide the linked list to produce sublists unitl one remains\n",
        "      repeteadly merge until one remains\n",
        "   \"\"\"\n"
      ],
      "execution_count": null,
      "outputs": []
    },
    {
      "cell_type": "code",
      "metadata": {
        "id": "fwyh83JeiRcy"
      },
      "source": [
        "# implementing stack using linkedlist\n",
        "\n",
        "class Node:\n",
        "\n",
        "  def __init__(self,data):\n",
        "\n",
        "    self.data = data\n",
        "    self.next = None\n",
        "\n",
        "class Linkedlist_stack:\n",
        "\n",
        "  def __init__(self):\n",
        "\n",
        "    self.head = None\n",
        "    self.size =0\n",
        "    self.tail =None\n",
        "  \n",
        "  def __len__(self):\n",
        "    return self.size\n",
        "\n",
        "  def is_empty(self):\n",
        "    return self.size==0\n",
        "  \n",
        "  def push(self,data):\n",
        "    \n",
        "    if self.tail is None:\n",
        "      self.head = Node(data)\n",
        "      self.size = self.size+1\n",
        "      self.tail = self.head\n",
        "    \n",
        "    else:\n",
        "      new = Node(data)\n",
        "      self.tail.next = new\n",
        "      self.tail = new\n",
        "      self.size=self.size+1\n",
        "  \n",
        "  def top(self):\n",
        "    return self.head.data\n",
        "  \n",
        "  def bottom(self):\n",
        "    return self.tail.data\n",
        "  \n",
        "  def pop(self):\n",
        "\n",
        "    if self.head is None:\n",
        "      return 'Stack is Empty'\n",
        "    \n",
        "    else:\n",
        "\n",
        "      current = self.head\n",
        "      \n",
        "      while current.next is not None:\n",
        "        current = current.next\n",
        "      current.next = None\n",
        "      self.tail = current\n",
        "      self.size=self.size-1\n",
        "\n",
        "\n"
      ],
      "execution_count": 1,
      "outputs": []
    },
    {
      "cell_type": "code",
      "metadata": {
        "id": "6E4iz-ROpMhB"
      },
      "source": [
        "ls = Linkedlist_stack()"
      ],
      "execution_count": 2,
      "outputs": []
    },
    {
      "cell_type": "code",
      "metadata": {
        "id": "rYxOPpYVr2Cg",
        "colab": {
          "base_uri": "https://localhost:8080/"
        },
        "outputId": "6375003f-9e40-4510-f9cc-02310de059b5"
      },
      "source": [
        "ls.size"
      ],
      "execution_count": 3,
      "outputs": [
        {
          "output_type": "execute_result",
          "data": {
            "text/plain": [
              "0"
            ]
          },
          "metadata": {},
          "execution_count": 3
        }
      ]
    },
    {
      "cell_type": "code",
      "metadata": {
        "id": "VbLIMNyprwcd"
      },
      "source": [
        "ls.push(1)"
      ],
      "execution_count": 4,
      "outputs": []
    },
    {
      "cell_type": "code",
      "metadata": {
        "id": "YcTIlJ8Hr6qT",
        "colab": {
          "base_uri": "https://localhost:8080/"
        },
        "outputId": "14a81999-f2c4-47c2-ddb3-d61cb2585eae"
      },
      "source": [
        "ls.size"
      ],
      "execution_count": 5,
      "outputs": [
        {
          "output_type": "execute_result",
          "data": {
            "text/plain": [
              "1"
            ]
          },
          "metadata": {},
          "execution_count": 5
        }
      ]
    },
    {
      "cell_type": "code",
      "metadata": {
        "id": "Cv95FmhlsOWm",
        "colab": {
          "base_uri": "https://localhost:8080/"
        },
        "outputId": "413b8d27-8a07-4f48-ed8f-71b5d398bd1f"
      },
      "source": [
        "ls.top()"
      ],
      "execution_count": 6,
      "outputs": [
        {
          "output_type": "execute_result",
          "data": {
            "text/plain": [
              "1"
            ]
          },
          "metadata": {},
          "execution_count": 6
        }
      ]
    },
    {
      "cell_type": "code",
      "metadata": {
        "id": "DFnqvt5-sPwX",
        "colab": {
          "base_uri": "https://localhost:8080/"
        },
        "outputId": "fa232853-2014-412f-add1-a8b8ea1a9b5b"
      },
      "source": [
        "ls.bottom()"
      ],
      "execution_count": 7,
      "outputs": [
        {
          "output_type": "execute_result",
          "data": {
            "text/plain": [
              "1"
            ]
          },
          "metadata": {},
          "execution_count": 7
        }
      ]
    },
    {
      "cell_type": "code",
      "metadata": {
        "id": "bpwpK8TysRh2",
        "colab": {
          "base_uri": "https://localhost:8080/"
        },
        "outputId": "2f4305fd-e727-4e4b-d3c2-adf6e7557ca3"
      },
      "source": [
        "ls.push(2)\n",
        "ls.push(3)\n",
        "ls.push(4)\n",
        "ls.size"
      ],
      "execution_count": 8,
      "outputs": [
        {
          "output_type": "execute_result",
          "data": {
            "text/plain": [
              "4"
            ]
          },
          "metadata": {},
          "execution_count": 8
        }
      ]
    },
    {
      "cell_type": "code",
      "metadata": {
        "id": "yoevXj5msYGs"
      },
      "source": [
        "ls.pop()"
      ],
      "execution_count": 9,
      "outputs": []
    },
    {
      "cell_type": "code",
      "metadata": {
        "id": "fYQ_5Nb5sZ7w",
        "colab": {
          "base_uri": "https://localhost:8080/"
        },
        "outputId": "6244c355-5812-40f8-99b1-34980d45b446"
      },
      "source": [
        "ls.size"
      ],
      "execution_count": 10,
      "outputs": [
        {
          "output_type": "execute_result",
          "data": {
            "text/plain": [
              "3"
            ]
          },
          "metadata": {},
          "execution_count": 10
        }
      ]
    },
    {
      "cell_type": "code",
      "metadata": {
        "id": "wri3SJvUsbWc",
        "colab": {
          "base_uri": "https://localhost:8080/"
        },
        "outputId": "80c30690-00f4-4d5d-b157-3d3e4097ca3e"
      },
      "source": [
        "ls.is_empty()"
      ],
      "execution_count": 11,
      "outputs": [
        {
          "output_type": "execute_result",
          "data": {
            "text/plain": [
              "False"
            ]
          },
          "metadata": {},
          "execution_count": 11
        }
      ]
    },
    {
      "cell_type": "code",
      "metadata": {
        "id": "D7Lg0KQysdsH",
        "colab": {
          "base_uri": "https://localhost:8080/"
        },
        "outputId": "0d86dc51-e222-4773-a6f9-74e6dbf672a3"
      },
      "source": [
        "ls.bottom()"
      ],
      "execution_count": 12,
      "outputs": [
        {
          "output_type": "execute_result",
          "data": {
            "text/plain": [
              "4"
            ]
          },
          "metadata": {},
          "execution_count": 12
        }
      ]
    },
    {
      "cell_type": "code",
      "metadata": {
        "id": "rsWM-QGpsfC9"
      },
      "source": [
        "# implementing queue\n",
        "\n",
        "\n",
        "class Linkedlist_queue:\n",
        "\n",
        "  def __init__(self):\n",
        "\n",
        "    self.head = None\n",
        "    self.size =0\n",
        "    self.tail =None\n",
        "  \n",
        "  def __len__(self):\n",
        "    return self.size\n",
        "\n",
        "  def is_empty(self):\n",
        "    return self.size==0\n",
        "  \n",
        "  def push(self,data):\n",
        "    \n",
        "    if self.tail is None:\n",
        "      self.head = Node(data)\n",
        "      self.size = self.size+1\n",
        "      self.tail = self.head\n",
        "    \n",
        "    else:\n",
        "      new = Node(data)\n",
        "      self.tail.next = new\n",
        "      self.tail = new\n",
        "      self.size=self.size+1\n",
        "  \n",
        "  def top(self):\n",
        "    return self.head.data\n",
        "  \n",
        "  def bottom(self):\n",
        "    return self.tail.data\n",
        "  \n",
        "  def pop(self):\n",
        "\n",
        "    if self.head is None:\n",
        "      return 'queue is Empty'\n",
        "    \n",
        "    else:\n",
        "      self.tail=self.tail.next\n",
        "      self.size=self.size-1\n",
        "    "
      ],
      "execution_count": 18,
      "outputs": []
    },
    {
      "cell_type": "code",
      "metadata": {
        "id": "TXcKXW9zBWU2"
      },
      "source": [
        "qs = Linkedlist_queue()\n",
        "\n",
        "qs.push(1)\n",
        "qs.push(2)\n",
        "qs.push(3)\n",
        "qs.push(4)"
      ],
      "execution_count": 21,
      "outputs": []
    },
    {
      "cell_type": "code",
      "metadata": {
        "colab": {
          "base_uri": "https://localhost:8080/"
        },
        "id": "ZO_nWilFENVY",
        "outputId": "62afc550-854b-4b7d-d41b-bbab2e66436b"
      },
      "source": [
        "qs.size"
      ],
      "execution_count": 22,
      "outputs": [
        {
          "output_type": "execute_result",
          "data": {
            "text/plain": [
              "4"
            ]
          },
          "metadata": {},
          "execution_count": 22
        }
      ]
    },
    {
      "cell_type": "code",
      "metadata": {
        "colab": {
          "base_uri": "https://localhost:8080/"
        },
        "id": "IT0YpIlgEc21",
        "outputId": "edb64b45-4e01-4fad-d29f-ab50ce59f7d3"
      },
      "source": [
        "qs.top(),qs.bottom()"
      ],
      "execution_count": 23,
      "outputs": [
        {
          "output_type": "execute_result",
          "data": {
            "text/plain": [
              "(1, 4)"
            ]
          },
          "metadata": {},
          "execution_count": 23
        }
      ]
    },
    {
      "cell_type": "code",
      "metadata": {
        "id": "PhfP3GI0EsbL"
      },
      "source": [
        "\n",
        "class Linkedlist_circular_queue:\n",
        "\n",
        "  def __init__(self):\n",
        "\n",
        "    self.size =0\n",
        "    self.tail =None\n",
        "  \n",
        "  def __len__(self):\n",
        "    return self.size\n",
        "\n",
        "  def is_empty(self):\n",
        "    return self.size==0\n",
        "  \n",
        "  def push(self,data):\n",
        "    new = Node(data)\n",
        "    if self.is_empty():\n",
        "      new.next = new\n",
        "\n",
        "    else:\n",
        "      new.next = self.tail.next\n",
        "      self.tail.next = new\n",
        "      self.tail = new \n",
        "    size +=1\n",
        "\n",
        "  def top(self):\n",
        "    return self.tail.next.data\n",
        "  \n",
        "  def bottom(self):\n",
        "    return self.tail.data\n",
        "  \n",
        "  def pop(self):\n",
        "\n",
        "    if self.is_empty():\n",
        "      return 'queue is Empty'\n",
        "    \n",
        "    else:\n",
        "      old_head = self.tail.next\n",
        "      self.tail.next = old_head.next\n",
        "      size -= 1\n",
        "\n",
        "  def rotate(self): #it rotates by 1 unit , taking tail as reference\n",
        "      if self.size > 0:\n",
        "        self.tail = self.tail.next\n",
        "      "
      ],
      "execution_count": 28,
      "outputs": []
    },
    {
      "cell_type": "code",
      "metadata": {
        "id": "UgRxBHoNRTng"
      },
      "source": [
        "# Double Linkedlist\n",
        "\n",
        "\n"
      ],
      "execution_count": null,
      "outputs": []
    }
  ]
}