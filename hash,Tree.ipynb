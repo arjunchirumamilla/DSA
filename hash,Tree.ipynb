{
  "nbformat": 4,
  "nbformat_minor": 0,
  "metadata": {
    "colab": {
      "name": "hash,Tree.ipynb",
      "provenance": [],
      "collapsed_sections": [],
      "authorship_tag": "ABX9TyMsNTZLwUaL6dppZISYSrER",
      "include_colab_link": true
    },
    "kernelspec": {
      "name": "python3",
      "display_name": "Python 3"
    },
    "language_info": {
      "name": "python"
    }
  },
  "cells": [
    {
      "cell_type": "markdown",
      "metadata": {
        "id": "view-in-github",
        "colab_type": "text"
      },
      "source": [
        "<a href=\"https://colab.research.google.com/github/pavan-elisetty/DSA-Jovian/blob/main/hash%2CTree.ipynb\" target=\"_parent\"><img src=\"https://colab.research.google.com/assets/colab-badge.svg\" alt=\"Open In Colab\"/></a>"
      ]
    },
    {
      "cell_type": "code",
      "metadata": {
        "id": "AYKAGRxQUtgU"
      },
      "source": [
        "# hashing -- primarly used in dict O(n) \n",
        "# dictionary in python is the python specific implementation of hash map"
      ],
      "execution_count": null,
      "outputs": []
    },
    {
      "cell_type": "code",
      "metadata": {
        "id": "NhY0tZvHUtcj"
      },
      "source": [
        "# implementing a hash function\n",
        "def get_hash(key):    #this hash function uses the ascii values and its sum\n",
        "  h=0\n",
        "  for i in key:\n",
        "    h+=ord(i)\n",
        "  return h%100"
      ],
      "execution_count": null,
      "outputs": []
    },
    {
      "cell_type": "code",
      "metadata": {
        "colab": {
          "base_uri": "https://localhost:8080/"
        },
        "id": "W8Y9oDmWUtZR",
        "outputId": "3f092774-d596-4a07-939d-23ebae41a545"
      },
      "source": [
        "get_hash('Sumtng')"
      ],
      "execution_count": null,
      "outputs": [
        {
          "output_type": "execute_result",
          "data": {
            "text/plain": [
              "38"
            ]
          },
          "metadata": {
            "tags": []
          },
          "execution_count": 2
        }
      ]
    },
    {
      "cell_type": "code",
      "metadata": {
        "id": "LI2XDFOMUtGJ"
      },
      "source": [
        "# implementing the hash table\n",
        "\n",
        "class HashTable:\n",
        "\n",
        "  def __init__(self):\n",
        "    self.Max = 100\n",
        "    self.arr = [None for i in range(self.Max)]\n",
        "  \n",
        "  def get_hash(self,key):   \n",
        "    h=0\n",
        "    for i in key:\n",
        "      h+=ord(i)\n",
        "    return h%self.Max\n",
        "  \n",
        "  def add(self,key,val):\n",
        "    self.arr[self.get_hash(key)]=val\n",
        "  \n",
        "  def get(self,key):\n",
        "    return self.arr[self.get_hash(key)]\n",
        "\n",
        "\n",
        "  "
      ],
      "execution_count": null,
      "outputs": []
    },
    {
      "cell_type": "code",
      "metadata": {
        "id": "b11ysOl88r7f"
      },
      "source": [
        "t = HashTable()"
      ],
      "execution_count": null,
      "outputs": []
    },
    {
      "cell_type": "code",
      "metadata": {
        "id": "BNtOnmBF8r4H"
      },
      "source": [
        "t.add('pavan',100)"
      ],
      "execution_count": null,
      "outputs": []
    },
    {
      "cell_type": "code",
      "metadata": {
        "colab": {
          "base_uri": "https://localhost:8080/"
        },
        "id": "CuW19BwS8r1y",
        "outputId": "7d4a5666-6129-462b-f3f8-643cb404b056"
      },
      "source": [
        "t.get('pavan')"
      ],
      "execution_count": null,
      "outputs": [
        {
          "output_type": "execute_result",
          "data": {
            "text/plain": [
              "100"
            ]
          },
          "metadata": {
            "tags": []
          },
          "execution_count": 12
        }
      ]
    },
    {
      "cell_type": "code",
      "metadata": {
        "id": "z6yVOHNHAmLr"
      },
      "source": [
        "# collision concepts ignored"
      ],
      "execution_count": null,
      "outputs": []
    },
    {
      "cell_type": "code",
      "metadata": {
        "id": "kCBAkcbA8rzL"
      },
      "source": [
        "# implementing the hash table with py inbuilt operators\n",
        "\n",
        "class HashTable:\n",
        "\n",
        "  def __init__(self):\n",
        "    self.Max = 100\n",
        "    self.arr = [None for i in range(self.Max)]\n",
        "  \n",
        "  def get_hash(self,key):   \n",
        "    h=0\n",
        "    for i in key:\n",
        "      h+=ord(i)\n",
        "    return h%self.Max\n",
        "  \n",
        "  def __setitem__(self,key,val):\n",
        "    self.arr[self.get_hash(key)]=val\n",
        "  \n",
        "  def __getitem__(self,key):\n",
        "    return self.arr[self.get_hash(key)]\n",
        "\n",
        "  def __delitem__(self,key):\n",
        "    h = self.get_hash(key)\n",
        "    self.arr[h]=None\n",
        "\n"
      ],
      "execution_count": null,
      "outputs": []
    },
    {
      "cell_type": "code",
      "metadata": {
        "colab": {
          "base_uri": "https://localhost:8080/"
        },
        "id": "OkhHxNd78rw0",
        "outputId": "877d7fa9-eb3a-48a2-84d1-194940f22dc9"
      },
      "source": [
        "t=HashTable()\n",
        "t['Hello']=123\n",
        "t['Hello']"
      ],
      "execution_count": null,
      "outputs": [
        {
          "output_type": "execute_result",
          "data": {
            "text/plain": [
              "123"
            ]
          },
          "metadata": {
            "tags": []
          },
          "execution_count": 17
        }
      ]
    },
    {
      "cell_type": "code",
      "metadata": {
        "id": "2-KWJoGI8ruN"
      },
      "source": [
        "del t['Hello']"
      ],
      "execution_count": null,
      "outputs": []
    },
    {
      "cell_type": "code",
      "metadata": {
        "colab": {
          "base_uri": "https://localhost:8080/"
        },
        "id": "JnUIzuEF8rr_",
        "outputId": "0fea1d38-f5be-40ef-8d79-bcd57c621eb8"
      },
      "source": [
        "print(t['Hello'])"
      ],
      "execution_count": null,
      "outputs": [
        {
          "output_type": "stream",
          "text": [
            "None\n"
          ],
          "name": "stdout"
        }
      ]
    },
    {
      "cell_type": "code",
      "metadata": {
        "id": "oZFxhTT-8rbW"
      },
      "source": [
        "# a general tree \n",
        "class TreeNode:\n",
        "  def __init__(self,data):\n",
        "    self.data = data\n",
        "    self.children = []\n",
        "    self.parent = None\n",
        "\n",
        "  def add_child(self,child):\n",
        "    self.parent = self\n",
        "    self.children.append(child)\n",
        "\n",
        "  def get_level(self):\n",
        "    level=0\n",
        "    p = self.parent\n",
        "    while p:\n",
        "      level+=0\n",
        "      p = p.parent\n",
        "    return level\n",
        "  \n",
        "  def print_tree(self):\n",
        "    spaces = ' '+self.get_level()\n",
        "    prefix = spaces+\"|__\" if self.parent else \"\"\n",
        "    print(spaces+self.data)\n",
        "    if self.children:\n",
        "      for child in self.children:\n",
        "        #print(child.data)   #this prints only a particular node children\n",
        "        child.print_tree()   #this recursively prints all the nodes children"
      ],
      "execution_count": null,
      "outputs": []
    },
    {
      "cell_type": "code",
      "metadata": {
        "id": "AOaXh3eTDdVM"
      },
      "source": [
        "# a general binary tree\n",
        "\n",
        "class Node:\n",
        "  def __init__(self,val):\n",
        "    self.val = val\n",
        "    self.left = None\n",
        "    self.right= None\n",
        "  \n",
        "  def __repr__(self):\n",
        "    return \"Node val is \"+str(self.val)\n"
      ],
      "execution_count": null,
      "outputs": []
    },
    {
      "cell_type": "code",
      "metadata": {
        "id": "tBII_28ADr-h"
      },
      "source": [
        "#creating a root node\n",
        "\n",
        "root = Node(0)"
      ],
      "execution_count": null,
      "outputs": []
    },
    {
      "cell_type": "code",
      "metadata": {
        "id": "1r5OnwjtDw08"
      },
      "source": [
        "root.left = Node(1)\n",
        "root.right = Node(2)\n",
        "root.left.left = Node(3)\n",
        "root.left.right = Node(4)"
      ],
      "execution_count": null,
      "outputs": []
    },
    {
      "cell_type": "code",
      "metadata": {
        "colab": {
          "base_uri": "https://localhost:8080/"
        },
        "id": "FVcqSCKHEWEt",
        "outputId": "ebadc96a-f8fb-4099-eb29-97be764a218b"
      },
      "source": [
        "root"
      ],
      "execution_count": null,
      "outputs": [
        {
          "output_type": "execute_result",
          "data": {
            "text/plain": [
              "Node val is 0"
            ]
          },
          "metadata": {
            "tags": []
          },
          "execution_count": 17
        }
      ]
    },
    {
      "cell_type": "markdown",
      "metadata": {
        "id": "Q2wztY0eMXZe"
      },
      "source": [
        "![Tree-Traversals.png](data:image/png;base64,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)"
      ]
    },
    {
      "cell_type": "code",
      "metadata": {
        "id": "qXEutVDiTJeA"
      },
      "source": [
        "# binary search tree , it cannot have duplicate elements\n",
        "\n",
        "class BinarySearchTreeNode:\n",
        "  def __init__(self , data):\n",
        "    self.data = data\n",
        "    self.left = None\n",
        "    self.right = None\n",
        "\n",
        "\n",
        "  def add_child(self,data):\n",
        "\n",
        "    if data == self.data:   # cannot have duplicates\n",
        "      return \n",
        "\n",
        "    if data < self.data:   # adding in left subtree\n",
        "      if self.left: # checking if left has something in it\n",
        "        self.left.add_child(data)\n",
        "      else:\n",
        "        self.left = BinarySearchTreeNode(data)\n",
        "\n",
        "    else:                 # adding in right subtree\n",
        "      if self.right:\n",
        "        self.right.add_child(data)\n",
        "      else:\n",
        "        self.right = BinarySearchTreeNode(data)\n",
        "\n",
        "\n",
        "\n",
        "  def in_order_traversal(self):\n",
        "    elements = []\n",
        "\n",
        "    #visit left tree\n",
        "    if self.left:\n",
        "      elements += self.left.in_order_traversal()\n",
        "\n",
        "    #visit base node\n",
        "    elements.append(self.data)\n",
        "\n",
        "    #visit right tree\n",
        "    if self.right:\n",
        "      elements += self.right.in_order_traversal()\n",
        "\n",
        "    return elements\n",
        "\n",
        "  def pre_order_traversal(self):\n",
        "    \n",
        "    elements=[]\n",
        "\n",
        "    if self.left:\n",
        "      elements+=self.left.pre_order_traversal()\n",
        "    if self.right:\n",
        "      elements+=self.right.pre_order_traversal()\n",
        "    elements.append(self.data)\n",
        "    return elements\n",
        "\n",
        "  def post_order_traversal(self):\n",
        "    \n",
        "    elements=[]\n",
        "    elements.append(self.data)\n",
        "    if self.left:\n",
        "      elements+=self.left.post_order_traversal()\n",
        "    if self.right:\n",
        "      elements+=self.right.post_order_traversal()\n",
        "    \n",
        "    return elements\n",
        "\n",
        "\n",
        "  def search(self,key):\n",
        "    if self.data == key:\n",
        "      return True\n",
        "    \n",
        "    if key<self.data:\n",
        "      if self.left:\n",
        "        return self.left.search(key)\n",
        "      else:\n",
        "        return False\n",
        "    if key>self.data:\n",
        "      if self.right:\n",
        "        return self.right.search(key)\n",
        "      else:\n",
        "        return False\n",
        "\n",
        "\n",
        "\n",
        "\n",
        "def build_tree(elements):\n",
        "\n",
        "  root = BinarySearchTreeNode(elements[0])\n",
        "  for i in range(1,len(elements)):\n",
        "    root.add_child(elements[i])\n",
        "  return root\n",
        "  \n"
      ],
      "execution_count": 1,
      "outputs": []
    },
    {
      "cell_type": "code",
      "metadata": {
        "colab": {
          "base_uri": "https://localhost:8080/"
        },
        "id": "KSGCULLAKwzN",
        "outputId": "20dc5ece-484d-4b94-8555-932e693f4c34"
      },
      "source": [
        "numbers = [17,4,1,20,9,23,18,34]\n",
        "numbers_tree = build_tree(numbers)\n",
        "print(numbers_tree.in_order_traversal())"
      ],
      "execution_count": 2,
      "outputs": [
        {
          "output_type": "stream",
          "text": [
            "[1, 4, 9, 17, 18, 20, 23, 34]\n"
          ],
          "name": "stdout"
        }
      ]
    },
    {
      "cell_type": "code",
      "metadata": {
        "colab": {
          "base_uri": "https://localhost:8080/"
        },
        "id": "Ff-j9HUnMC0O",
        "outputId": "7296751b-a62e-4079-89ef-5db3ada73edc"
      },
      "source": [
        "numbers_tree.search(17)"
      ],
      "execution_count": 3,
      "outputs": [
        {
          "output_type": "execute_result",
          "data": {
            "text/plain": [
              "True"
            ]
          },
          "metadata": {},
          "execution_count": 3
        }
      ]
    },
    {
      "cell_type": "code",
      "metadata": {
        "colab": {
          "base_uri": "https://localhost:8080/"
        },
        "id": "9NURPuELKyB6",
        "outputId": "3ec2af35-ae26-474a-8d16-6cc46481ed47"
      },
      "source": [
        "numbers_tree.in_order_traversal()"
      ],
      "execution_count": 5,
      "outputs": [
        {
          "output_type": "execute_result",
          "data": {
            "text/plain": [
              "[1, 4, 9, 17, 18, 20, 23, 34]"
            ]
          },
          "metadata": {},
          "execution_count": 5
        }
      ]
    },
    {
      "cell_type": "code",
      "metadata": {
        "colab": {
          "base_uri": "https://localhost:8080/"
        },
        "id": "7IX6_HfdK0KG",
        "outputId": "3bd2a69d-4c0c-456d-b52b-0cadd94b7526"
      },
      "source": [
        "numbers_tree.pre_order_traversal()"
      ],
      "execution_count": 6,
      "outputs": [
        {
          "output_type": "execute_result",
          "data": {
            "text/plain": [
              "[1, 9, 4, 18, 34, 23, 20, 17]"
            ]
          },
          "metadata": {},
          "execution_count": 6
        }
      ]
    },
    {
      "cell_type": "code",
      "metadata": {
        "colab": {
          "base_uri": "https://localhost:8080/"
        },
        "id": "VFM_jX1YK37c",
        "outputId": "4da4e60c-bcb6-48b0-e07b-54a1c61c0046"
      },
      "source": [
        "numbers_tree.post_order_traversal()"
      ],
      "execution_count": 7,
      "outputs": [
        {
          "output_type": "execute_result",
          "data": {
            "text/plain": [
              "[17, 4, 1, 9, 20, 18, 23, 34]"
            ]
          },
          "metadata": {},
          "execution_count": 7
        }
      ]
    },
    {
      "cell_type": "code",
      "metadata": {
        "id": "tz_0hVePKwF5"
      },
      "source": [
        "# general implementation of bst \n",
        "\n",
        "# Python program to for tree traversals\n",
        "\n",
        "# A class that represents an individual node in a\n",
        "# Binary Tree\n",
        "\n",
        "\n",
        "class Node:\n",
        "\tdef __init__(self, key):\n",
        "\t\tself.left = None\n",
        "\t\tself.right = None\n",
        "\t\tself.val = key\n",
        "\n",
        "\n",
        "# A function to do inorder tree traversal\n",
        "def printInorder(root):\n",
        "\n",
        "\tif root:\n",
        "\n",
        "\t\t# First recur on left child\n",
        "\t\tprintInorder(root.left)\n",
        "\n",
        "\t\t# then print the data of node\n",
        "\t\tprint(root.val),\n",
        "\n",
        "\t\t# now recur on right child\n",
        "\t\tprintInorder(root.right)\n",
        "\n",
        "\n",
        "# A function to do postorder tree traversal\n",
        "def printPostorder(root):\n",
        "\n",
        "\tif root:\n",
        "\n",
        "\t\t# First recur on left child\n",
        "\t\tprintPostorder(root.left)\n",
        "\n",
        "\t\t# the recur on right child\n",
        "\t\tprintPostorder(root.right)\n",
        "\n",
        "\t\t# now print the data of node\n",
        "\t\tprint(root.val),\n",
        "\n",
        "\n",
        "# A function to do preorder tree traversal\n",
        "def printPreorder(root):\n",
        "\n",
        "\tif root:\n",
        "\n",
        "\t\t# First print the data of node\n",
        "\t\tprint(root.val),\n",
        "\n",
        "\t\t# Then recur on left child\n",
        "\t\tprintPreorder(root.left)\n",
        "\n",
        "\t\t# Finally recur on right child\n",
        "\t\tprintPreorder(root.right)\n",
        "\n",
        "\n",
        "# Driver code\n",
        "root = Node(1)\n",
        "root.left = Node(2)\n",
        "root.right = Node(3)\n",
        "root.left.left = Node(4)\n",
        "root.left.right = Node(5)\n",
        "print \"Preorder traversal of binary tree is\"\n",
        "printPreorder(root)\n",
        "\n",
        "print \"\\nInorder traversal of binary tree is\"\n",
        "printInorder(root)\n",
        "\n",
        "print \"\\nPostorder traversal of binary tree is\"\n",
        "printPostorder(root)\n"
      ],
      "execution_count": null,
      "outputs": []
    }
  ]
}