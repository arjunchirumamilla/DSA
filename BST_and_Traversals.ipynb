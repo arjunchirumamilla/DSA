{
  "nbformat": 4,
  "nbformat_minor": 0,
  "metadata": {
    "colab": {
      "name": "BST and Traversals.ipynb",
      "provenance": [],
      "authorship_tag": "ABX9TyMjz/HhxJUjYoQa7JrNKLEF",
      "include_colab_link": true
    },
    "kernelspec": {
      "name": "python3",
      "display_name": "Python 3"
    }
  },
  "cells": [
    {
      "cell_type": "markdown",
      "metadata": {
        "id": "view-in-github",
        "colab_type": "text"
      },
      "source": [
        "<a href=\"https://colab.research.google.com/github/pavan-elisetty/DSA-Jovian/blob/main/BST_and_Traversals.ipynb\" target=\"_parent\"><img src=\"https://colab.research.google.com/assets/colab-badge.svg\" alt=\"Open In Colab\"/></a>"
      ]
    },
    {
      "cell_type": "markdown",
      "metadata": {
        "id": "wke0DNJJNBRV"
      },
      "source": [
        "## Problem \r\n",
        "\r\n",
        "\r\n",
        "In this notebook, we'll focus on solving the following problem:\r\n",
        "\r\n",
        "> **QUESTION 1**: As a senior backend engineer at Jovian, you are tasked with developing a fast in-memory data structure to manage profile information (username, name and email) for 100 million users. It should allow the following operations to be performed efficiently:\r\n",
        "> \r\n",
        "> 1. **Insert** the profile information for a new user.\r\n",
        "> 2. **Find** the profile information of a user, given their username\r\n",
        "> 3. **Update** the profile information of a user, given their usrname\r\n",
        "> 5. **List** all the users of the platform, sorted by username\r\n",
        ">\r\n",
        "> You can assume that usernames are unique. \r\n",
        "\r\n"
      ]
    },
    {
      "cell_type": "code",
      "metadata": {
        "id": "cgkzjnbPPLqc"
      },
      "source": [
        "class User:\r\n",
        "  def __init__(self,username,name,email):\r\n",
        "    self.username=username\r\n",
        "    self.name=name\r\n",
        "    self.email=email\r\n",
        "\r\n",
        "  def __repr__(self):\r\n",
        "    return \"User(username='{}', name='{}', email='{}')\".format(self.username, self.name, self.email)\r\n",
        "    \r\n",
        "  def __str__(self):\r\n",
        "    return self.__repr__()"
      ],
      "execution_count": null,
      "outputs": []
    },
    {
      "cell_type": "code",
      "metadata": {
        "colab": {
          "base_uri": "https://localhost:8080/"
        },
        "id": "v1yDI0t2Pmfb",
        "outputId": "f053a34d-3eba-4699-bbc0-e3a9347d70e7"
      },
      "source": [
        "user4 = User('jane', 'Jane Doe', 'jane@doe.com')\r\n",
        "user4"
      ],
      "execution_count": null,
      "outputs": [
        {
          "output_type": "execute_result",
          "data": {
            "text/plain": [
              "User(username='jane', name='Jane Doe', email='jane@doe.com')"
            ]
          },
          "metadata": {
            "tags": []
          },
          "execution_count": 2
        }
      ]
    },
    {
      "cell_type": "code",
      "metadata": {
        "id": "JmbtdcG_Pp5C"
      },
      "source": [
        "class UserDatabase:\r\n",
        "    def insert(self, user):\r\n",
        "        pass\r\n",
        "    \r\n",
        "    def find(self, username):\r\n",
        "        pass\r\n",
        "    \r\n",
        "    def update(self, user):\r\n",
        "        pass\r\n",
        "        \r\n",
        "    def list_all(self):\r\n",
        "        pass"
      ],
      "execution_count": null,
      "outputs": []
    },
    {
      "cell_type": "code",
      "metadata": {
        "id": "vau5rXdVQDGF"
      },
      "source": [
        "aakash = User('aakash', 'Aakash Rai', 'aakash@example.com')\r\n",
        "biraj = User('biraj', 'Biraj Das', 'biraj@example.com')\r\n",
        "hemanth = User('hemanth', 'Hemanth Jain', 'hemanth@example.com')\r\n",
        "jadhesh = User('jadhesh', 'Jadhesh Verma', 'jadhesh@example.com')\r\n",
        "siddhant = User('siddhant', 'Siddhant Sinha', 'siddhant@example.com')\r\n",
        "sonaksh = User('sonaksh', 'Sonaksh Kumar', 'sonaksh@example.com')\r\n",
        "vishal = User('vishal', 'Vishal Goel', 'vishal@example.com')"
      ],
      "execution_count": null,
      "outputs": []
    },
    {
      "cell_type": "code",
      "metadata": {
        "id": "cCOzEbylQG0Y"
      },
      "source": [
        "users = [aakash, biraj, hemanth, jadhesh, siddhant, sonaksh, vishal]"
      ],
      "execution_count": null,
      "outputs": []
    },
    {
      "cell_type": "code",
      "metadata": {
        "colab": {
          "base_uri": "https://localhost:8080/"
        },
        "id": "GWRzOWAlQSzf",
        "outputId": "6e11eed8-47e8-4262-a6df-44002b25853f"
      },
      "source": [
        "users"
      ],
      "execution_count": null,
      "outputs": [
        {
          "output_type": "execute_result",
          "data": {
            "text/plain": [
              "[User(username='aakash', name='Aakash Rai', email='aakash@example.com'),\n",
              " User(username='biraj', name='Biraj Das', email='biraj@example.com'),\n",
              " User(username='hemanth', name='Hemanth Jain', email='hemanth@example.com'),\n",
              " User(username='jadhesh', name='Jadhesh Verma', email='jadhesh@example.com'),\n",
              " User(username='siddhant', name='Siddhant Sinha', email='siddhant@example.com'),\n",
              " User(username='sonaksh', name='Sonaksh Kumar', email='sonaksh@example.com'),\n",
              " User(username='vishal', name='Vishal Goel', email='vishal@example.com')]"
            ]
          },
          "metadata": {
            "tags": []
          },
          "execution_count": 6
        }
      ]
    },
    {
      "cell_type": "code",
      "metadata": {
        "id": "B_pqCEPCQVdc"
      },
      "source": [
        "#implementing the solution using brute force approach\r\n",
        "\r\n",
        "class UserDatabase:\r\n",
        "  def __init__(self):\r\n",
        "    self.users=[]\r\n",
        "\r\n",
        "  def insert(self,user):\r\n",
        "    i=0\r\n",
        "    while i < len(self.users):\r\n",
        "      if self.users[i].username > user.username:\r\n",
        "        break\r\n",
        "      i+=1\r\n",
        "    self.users.insert(i,user)\r\n",
        "  \r\n",
        "  def find(self,Username):\r\n",
        "    for user in users:\r\n",
        "      if user.username == Username:\r\n",
        "        return user\r\n",
        "    return f'there is no profile on {Username}'\r\n",
        "  def update(self, user):\r\n",
        "      target = self.find(user.username)\r\n",
        "      target.name, target.email = user.name, user.email\r\n",
        "        \r\n",
        "  def list_all(self):\r\n",
        "      return self.users\r\n"
      ],
      "execution_count": null,
      "outputs": []
    },
    {
      "cell_type": "code",
      "metadata": {
        "id": "Uxr3hx0lR4CQ"
      },
      "source": [
        "database = UserDatabase()"
      ],
      "execution_count": null,
      "outputs": []
    },
    {
      "cell_type": "code",
      "metadata": {
        "id": "7fFDhfZAR5AY"
      },
      "source": [
        "database.insert(hemanth)\r\n",
        "database.insert(aakash)\r\n",
        "database.insert(siddhant)"
      ],
      "execution_count": null,
      "outputs": []
    },
    {
      "cell_type": "code",
      "metadata": {
        "colab": {
          "base_uri": "https://localhost:8080/"
        },
        "id": "lp8pLe8xVfbZ",
        "outputId": "fd67c974-d281-42f0-c59b-feb1360affc9"
      },
      "source": [
        "database.list_all()"
      ],
      "execution_count": null,
      "outputs": [
        {
          "output_type": "execute_result",
          "data": {
            "text/plain": [
              "[User(username='aakash', name='Aakash Rai', email='aakash@example.com'),\n",
              " User(username='hemanth', name='Hemanth Jain', email='hemanth@example.com'),\n",
              " User(username='siddhant', name='Siddhant Sinha', email='siddhant@example.com')]"
            ]
          },
          "metadata": {
            "tags": []
          },
          "execution_count": 10
        }
      ]
    },
    {
      "cell_type": "code",
      "metadata": {
        "colab": {
          "base_uri": "https://localhost:8080/"
        },
        "id": "MWIdS-MkVlQi",
        "outputId": "e23046ae-4e8a-451b-9147-aef24b6631d8"
      },
      "source": [
        "database.find('hemanth')"
      ],
      "execution_count": null,
      "outputs": [
        {
          "output_type": "execute_result",
          "data": {
            "text/plain": [
              "User(username='hemanth', name='Hemanth Jain', email='hemanth@example.com')"
            ]
          },
          "metadata": {
            "tags": []
          },
          "execution_count": 11
        }
      ]
    },
    {
      "cell_type": "code",
      "metadata": {
        "colab": {
          "base_uri": "https://localhost:8080/"
        },
        "id": "JM6CirvLV4Re",
        "outputId": "d92b5451-aca4-4498-ceff-54a86e48eb97"
      },
      "source": [
        "database.find('aakash')"
      ],
      "execution_count": null,
      "outputs": [
        {
          "output_type": "execute_result",
          "data": {
            "text/plain": [
              "User(username='aakash', name='Aakash Rai', email='aakash@example.com')"
            ]
          },
          "metadata": {
            "tags": []
          },
          "execution_count": 12
        }
      ]
    },
    {
      "cell_type": "code",
      "metadata": {
        "id": "0ajFdsKHV-xE"
      },
      "source": [
        "database.insert(biraj)"
      ],
      "execution_count": null,
      "outputs": []
    },
    {
      "cell_type": "code",
      "metadata": {
        "colab": {
          "base_uri": "https://localhost:8080/"
        },
        "id": "nTlF57J2WL6t",
        "outputId": "4eff06a2-cedc-4f1f-d1bb-bcd29cc8930e"
      },
      "source": [
        "database.list_all()"
      ],
      "execution_count": null,
      "outputs": [
        {
          "output_type": "execute_result",
          "data": {
            "text/plain": [
              "[User(username='aakash', name='Aakash Rai', email='aakash@example.com'),\n",
              " User(username='biraj', name='Biraj Das', email='biraj@example.com'),\n",
              " User(username='hemanth', name='Hemanth Jain', email='hemanth@example.com'),\n",
              " User(username='siddhant', name='Siddhant Sinha', email='siddhant@example.com')]"
            ]
          },
          "metadata": {
            "tags": []
          },
          "execution_count": 14
        }
      ]
    },
    {
      "cell_type": "code",
      "metadata": {
        "colab": {
          "base_uri": "https://localhost:8080/"
        },
        "id": "80KChoXQWNOB",
        "outputId": "ad2dc058-52d6-4d2f-d0b4-5d7c24bf67a4"
      },
      "source": [
        "# assuming for 10mn users since the complexity is o(n)\r\n",
        "%%time\r\n",
        "for j in range(1000000000):\r\n",
        "  j=j*j"
      ],
      "execution_count": null,
      "outputs": [
        {
          "output_type": "stream",
          "text": [
            "CPU times: user 1min 52s, sys: 22 ms, total: 1min 52s\n",
            "Wall time: 1min 53s\n"
          ],
          "name": "stdout"
        }
      ]
    },
    {
      "cell_type": "markdown",
      "metadata": {
        "id": "kHZnAEFfYQ4g"
      },
      "source": [
        "## Balanced Binary Search Trees\r\n",
        "\r\n",
        "<img src=\"https://i.imgur.com/Mqef5b3.png\" width=\"520\">\r\n",
        "\r\n",
        "For our use case, we require the binary tree to have some additional properties:\r\n",
        "\r\n",
        "1. **Keys and Values**: Each node of the tree stores a key (a username) and a value (a `User` object). Only keys are shown in the picture above for brevity. A binary tree where nodes have both a key and a value is often referred to as a **map** or **treemap** (because it maps keys to values).\r\n",
        "2. **Binary Search Tree**: The *left subtree* of any node only contains nodes with keys that are lexicographically smaller than the node's key, and the *right subtree* of any node only contains nodes with keys that lexicographically larger than the node's key. A tree that satisfies this property is called a **binary search trees**, and it's easy to locate a specific key by traversing a single path down from the root note.\r\n",
        "3. **Balanced Tree**: The tree is **balanced** i.e. it does not skew too heavily to one side or the other. The left and right subtrees of any node shouldn't differ in height/depth by more than 1 level.\r\n",
        "\r\n",
        "\r\n",
        "### Height of a Binary Tree\r\n",
        "\r\n",
        "The number of levels in a tree is called its height. As you can tell from the picture above, each level of a tree contains twice as many nodes as the previous level. \r\n",
        "\r\n",
        "For a tree of height `k`, here's a list of the number of nodes at each level:\r\n",
        "\r\n",
        "Level 0: `1`\r\n",
        "\r\n",
        "Level 1: `2`\r\n",
        "\r\n",
        "Level 2: `4` i.e. `2^2`\r\n",
        "\r\n",
        "Level 3: `8` i.e. `2^3`\r\n",
        "\r\n",
        "...\r\n",
        "\r\n",
        "Level k-1: `2^(k-1)`\r\n",
        "\r\n",
        "If the total number of nodes in the tree is `N`, then it follows that\r\n",
        "\r\n",
        "```\r\n",
        "N = 1 + 2^1 + 2^2 + 2^3 + ... + 2^(k-1)\r\n",
        "```\r\n",
        "\r\n",
        "\r\n",
        "We can simplify this equation by adding `1` on each side:\r\n",
        "\r\n",
        "```\r\n",
        "N + 1 = 1 + 1 + 2^1 + 2^2 + 2^3 + ... + 2^(k-1) \r\n",
        "\r\n",
        "N + 1 = 2^1 + 2^1 + 2^2+ 2^3 + ... + 2^(k-1) \r\n",
        "\r\n",
        "N + 1 = = 2^2 + 2^2 + 2^3 + ... + 2^(k-1)\r\n",
        "\r\n",
        "N + 1 = = 2^3 + 2^3 + ... + 2^(k-1)\r\n",
        "\r\n",
        "...\r\n",
        "\r\n",
        "N + 1 = 2^(k-1) + 2^(k-1)\r\n",
        "\r\n",
        "N + 1 = 2^k\r\n",
        "\r\n",
        "k = log(N + 1) <= log(N) + 1 \r\n",
        "\r\n",
        "```\r\n",
        "\r\n",
        "Thus, to store `N` records we require a balanced binary search tree (BST) of height no larger than `log(N) + 1`. This is a very useful property, in combination with the fact that nodes are arranged in a way that makes it easy to find a specific key by following a single path down from the root. \r\n",
        "\r\n",
        "As we'll see soon, the `insert`, `find` and `update` operations in a balanced BST have time complexity `O(log N)` since they all involve traversing a single path down from the root of the tree."
      ]
    },
    {
      "cell_type": "code",
      "metadata": {
        "id": "LLIpWz5xKTSi"
      },
      "source": [
        "#constructing a basic binary tree\r\n",
        "class Treenode:\r\n",
        "  def __init__(self,key):\r\n",
        "    self.key=key\r\n",
        "    self.left=None\r\n",
        "    self.right=None"
      ],
      "execution_count": null,
      "outputs": []
    },
    {
      "cell_type": "code",
      "metadata": {
        "id": "V0kgWIn6Kelm"
      },
      "source": [
        "Node1=Treenode(1)\r\n",
        "Node2=Treenode(2)\r\n",
        "Node3=Treenode(3)"
      ],
      "execution_count": null,
      "outputs": []
    },
    {
      "cell_type": "code",
      "metadata": {
        "id": "rVwfo_qRKmzj"
      },
      "source": [
        "Node1.left=Node2\r\n",
        "Node1.right=Node3"
      ],
      "execution_count": null,
      "outputs": []
    },
    {
      "cell_type": "code",
      "metadata": {
        "colab": {
          "base_uri": "https://localhost:8080/"
        },
        "id": "GkLomvICLHWK",
        "outputId": "40a57d13-a149-4753-9b64-042476d8650f"
      },
      "source": [
        "Node1.left.key"
      ],
      "execution_count": null,
      "outputs": [
        {
          "output_type": "execute_result",
          "data": {
            "text/plain": [
              "2"
            ]
          },
          "metadata": {
            "tags": []
          },
          "execution_count": 30
        }
      ]
    },
    {
      "cell_type": "markdown",
      "metadata": {
        "id": "SJgB_VFFNRQ-"
      },
      "source": [
        "\r\n",
        "following binary tree using the `TreeNode` class defined above.\r\n",
        "\r\n",
        "<img src=\"https://i.imgur.com/d7djJAf.png\" width=\"540\">"
      ]
    },
    {
      "cell_type": "code",
      "metadata": {
        "id": "b0OTIL4bLJVl"
      },
      "source": [
        "tree_tuple = ((1,3,None),2,((None,3,4),5,(6,7,8))) #left , middle/parent , right"
      ],
      "execution_count": null,
      "outputs": []
    },
    {
      "cell_type": "code",
      "metadata": {
        "id": "XvYUMr88NuCf"
      },
      "source": [
        "def parse_tuple(data):\r\n",
        "    print(\"this is data\",data)\r\n",
        "    if isinstance(data, tuple) and len(data) == 3:\r\n",
        "        node = Treenode(data[1])\r\n",
        "        print(\"this is key\" ,node.key)\r\n",
        "        node.left = parse_tuple(data[0])\r\n",
        "        node.right = parse_tuple(data[2])\r\n",
        "    elif data is None:\r\n",
        "        node = None\r\n",
        "        print('node became none')\r\n",
        "    else:\r\n",
        "        node = Treenode(data)\r\n",
        "        print('node added in else')\r\n",
        "    return node"
      ],
      "execution_count": null,
      "outputs": []
    },
    {
      "cell_type": "code",
      "metadata": {
        "colab": {
          "base_uri": "https://localhost:8080/"
        },
        "id": "drYaUDi1N4nb",
        "outputId": "c5c608a0-bb64-4dd5-dd15-831fbc02b415"
      },
      "source": [
        "tree2 = parse_tuple(((1,3,None), 2, ((None, 3, 4), 5, (6, 7, 8))))"
      ],
      "execution_count": null,
      "outputs": [
        {
          "output_type": "stream",
          "text": [
            "this is data ((1, 3, None), 2, ((None, 3, 4), 5, (6, 7, 8)))\n",
            "this is key 2\n",
            "this is data (1, 3, None)\n",
            "this is key 3\n",
            "this is data 1\n",
            "node added in else\n",
            "this is data None\n",
            "node became none\n",
            "this is data ((None, 3, 4), 5, (6, 7, 8))\n",
            "this is key 5\n",
            "this is data (None, 3, 4)\n",
            "this is key 3\n",
            "this is data None\n",
            "node became none\n",
            "this is data 4\n",
            "node added in else\n",
            "this is data (6, 7, 8)\n",
            "this is key 7\n",
            "this is data 6\n",
            "node added in else\n",
            "this is data 8\n",
            "node added in else\n"
          ],
          "name": "stdout"
        }
      ]
    },
    {
      "cell_type": "code",
      "metadata": {
        "id": "kAy60BP5PfTb"
      },
      "source": [
        ""
      ],
      "execution_count": null,
      "outputs": []
    }
  ]
}