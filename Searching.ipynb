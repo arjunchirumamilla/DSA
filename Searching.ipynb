{
  "nbformat": 4,
  "nbformat_minor": 0,
  "metadata": {
    "colab": {
      "name": "Searching.ipynb",
      "provenance": [],
      "authorship_tag": "ABX9TyO9Mv3bLEZPMSxa0nbcF0cb",
      "include_colab_link": true
    },
    "kernelspec": {
      "name": "python3",
      "display_name": "Python 3"
    }
  },
  "cells": [
    {
      "cell_type": "markdown",
      "metadata": {
        "id": "view-in-github",
        "colab_type": "text"
      },
      "source": [
        "<a href=\"https://colab.research.google.com/github/pavan-elisetty/DSA-Jovian/blob/main/Searching.ipynb\" target=\"_parent\"><img src=\"https://colab.research.google.com/assets/colab-badge.svg\" alt=\"Open In Colab\"/></a>"
      ]
    },
    {
      "cell_type": "code",
      "metadata": {
        "id": "AXcq0Xd5HaYO"
      },
      "source": [
        "# linear search with manual test cases\r\n",
        "\r\n",
        "def locate_card(cards , query):\r\n",
        "  pass"
      ],
      "execution_count": null,
      "outputs": []
    },
    {
      "cell_type": "code",
      "metadata": {
        "id": "a2sSh48OHkb8"
      },
      "source": [
        "test={\r\n",
        "    'input':{\r\n",
        "        'cards':[13,12,11,8,7,5,3],\r\n",
        "        'query':8\r\n",
        "    },\r\n",
        "    'output':3\r\n",
        "}"
      ],
      "execution_count": null,
      "outputs": []
    },
    {
      "cell_type": "code",
      "metadata": {
        "colab": {
          "base_uri": "https://localhost:8080/"
        },
        "id": "aA15fJSlH5ct",
        "outputId": "8e00d32d-e93d-40af-ce6c-318c142197e5"
      },
      "source": [
        "locate_card(**test['input'])==test['output']"
      ],
      "execution_count": null,
      "outputs": [
        {
          "output_type": "execute_result",
          "data": {
            "text/plain": [
              "False"
            ]
          },
          "metadata": {
            "tags": []
          },
          "execution_count": 7
        }
      ]
    },
    {
      "cell_type": "code",
      "metadata": {
        "colab": {
          "base_uri": "https://localhost:8080/"
        },
        "id": "XvsvOUjAIFZ5",
        "outputId": "bd668755-a263-4f65-e855-6a53eb0de9f7"
      },
      "source": [
        "# defining test cases along with possible edge cases:\r\n",
        "\r\n",
        "tests=[]\r\n",
        "tests.append(test)\r\n",
        "tests"
      ],
      "execution_count": null,
      "outputs": [
        {
          "output_type": "execute_result",
          "data": {
            "text/plain": [
              "[{'input': {'cards': [13, 12, 11, 8, 7, 5, 3], 'query': 8}, 'output': 3}]"
            ]
          },
          "metadata": {
            "tags": []
          },
          "execution_count": 8
        }
      ]
    },
    {
      "cell_type": "code",
      "metadata": {
        "id": "8SiVNO1QIbOx"
      },
      "source": [
        "tests.append({\r\n",
        "    'input':{\r\n",
        "        'cards':[5,4,3,2,-1,0,-12],\r\n",
        "        'query':0\r\n",
        "        },\r\n",
        "        'output':5\r\n",
        "})"
      ],
      "execution_count": null,
      "outputs": []
    },
    {
      "cell_type": "code",
      "metadata": {
        "colab": {
          "base_uri": "https://localhost:8080/"
        },
        "id": "7qTaRo9rI_Cy",
        "outputId": "f681d09a-731d-4b65-821d-e71154aa7fa2"
      },
      "source": [
        "tests.append({\r\n",
        "    'input': {\r\n",
        "        'cards': [13, 11, 10, 7, 4, 3, 1, 0],\r\n",
        "        'query': 1\r\n",
        "    },\r\n",
        "    'output': 6\r\n",
        "})\r\n",
        "# query is the first element\r\n",
        "tests.append({\r\n",
        "    'input': {\r\n",
        "        'cards': [4, 2, 1, -1],\r\n",
        "        'query': 4\r\n",
        "    },\r\n",
        "    'output': 0\r\n",
        "})\r\n",
        "# query is the last element\r\n",
        "tests.append({\r\n",
        "    'input': {\r\n",
        "        'cards': [3, -1, -9, -127],\r\n",
        "        'query': -127\r\n",
        "    },\r\n",
        "    'output': 3\r\n",
        "})\r\n",
        "# cards contains just one element, query\r\n",
        "tests.append({\r\n",
        "    'input': {\r\n",
        "        'cards': [6],\r\n",
        "        'query': 6\r\n",
        "    },\r\n",
        "    'output': 0 \r\n",
        "})\r\n",
        "# cards does not contain query \r\n",
        "tests.append({\r\n",
        "    'input': {\r\n",
        "        'cards': [9, 7, 5, 2, -9],\r\n",
        "        'query': 4\r\n",
        "    },\r\n",
        "    'output': -1\r\n",
        "})\r\n",
        "# cards is empty\r\n",
        "tests.append({\r\n",
        "    'input': {\r\n",
        "        'cards': [],\r\n",
        "        'query': 7\r\n",
        "    },\r\n",
        "    'output': -1\r\n",
        "})\r\n",
        "# numbers can repeat in cards\r\n",
        "tests.append({\r\n",
        "    'input': {\r\n",
        "        'cards': [8, 8, 6, 6, 6, 6, 6, 3, 2, 2, 2, 0, 0, 0],\r\n",
        "        'query': 3\r\n",
        "    },\r\n",
        "    'output': 7\r\n",
        "})\r\n",
        "# query occurs multiple times\r\n",
        "tests.append({\r\n",
        "    'input': {\r\n",
        "        'cards': [8, 8, 6, 6, 6, 6, 6, 6, 3, 2, 2, 2, 0, 0, 0],\r\n",
        "        'query': 6\r\n",
        "    },\r\n",
        "    'output': 2\r\n",
        "})\r\n",
        "tests"
      ],
      "execution_count": null,
      "outputs": [
        {
          "output_type": "execute_result",
          "data": {
            "text/plain": [
              "[{'input': {'cards': [13, 12, 11, 8, 7, 5, 3], 'query': 8}, 'output': 3},\n",
              " {'input': {'cards': [5, 4, 3, 2, -1, 0, -12], 'query': 0}, 'output': 5},\n",
              " {'input': {'cards': [13, 11, 10, 7, 4, 3, 1, 0], 'query': 1}, 'output': 6},\n",
              " {'input': {'cards': [4, 2, 1, -1], 'query': 4}, 'output': 0},\n",
              " {'input': {'cards': [3, -1, -9, -127], 'query': -127}, 'output': 3},\n",
              " {'input': {'cards': [6], 'query': 6}, 'output': 0},\n",
              " {'input': {'cards': [9, 7, 5, 2, -9], 'query': 4}, 'output': -1},\n",
              " {'input': {'cards': [], 'query': 7}, 'output': -1},\n",
              " {'input': {'cards': [8, 8, 6, 6, 6, 6, 6, 3, 2, 2, 2, 0, 0, 0], 'query': 3},\n",
              "  'output': 7},\n",
              " {'input': {'cards': [8, 8, 6, 6, 6, 6, 6, 6, 3, 2, 2, 2, 0, 0, 0],\n",
              "   'query': 6},\n",
              "  'output': 2}]"
            ]
          },
          "metadata": {
            "tags": []
          },
          "execution_count": 10
        }
      ]
    },
    {
      "cell_type": "code",
      "metadata": {
        "id": "68pjAYb_Je1y"
      },
      "source": [
        "def locate_card(cards , query):\r\n",
        "  position=0\r\n",
        "  while position < len(cards):\r\n",
        "    if query == cards[position]:\r\n",
        "      return position\r\n",
        "    else:\r\n",
        "      position+=1\r\n",
        "  return -1\r\n",
        "\r\n"
      ],
      "execution_count": null,
      "outputs": []
    },
    {
      "cell_type": "code",
      "metadata": {
        "colab": {
          "base_uri": "https://localhost:8080/"
        },
        "id": "VmKsr2oTKGTR",
        "outputId": "4b6ad7ca-84b7-4552-8e58-2590bbdec96b"
      },
      "source": [
        "!pip install jovian --upgrade --quiet\r\n",
        "from jovian.pythondsa import evaluate_test_case\r\n",
        "evaluate_test_case(locate_card , test)"
      ],
      "execution_count": null,
      "outputs": [
        {
          "output_type": "stream",
          "text": [
            "\u001b[?25l\r\u001b[K     |████▉                           | 10kB 21.9MB/s eta 0:00:01\r\u001b[K     |█████████▊                      | 20kB 10.2MB/s eta 0:00:01\r\u001b[K     |██████████████▌                 | 30kB 9.0MB/s eta 0:00:01\r\u001b[K     |███████████████████▍            | 40kB 8.1MB/s eta 0:00:01\r\u001b[K     |████████████████████████▏       | 51kB 5.6MB/s eta 0:00:01\r\u001b[K     |█████████████████████████████   | 61kB 5.4MB/s eta 0:00:01\r\u001b[K     |████████████████████████████████| 71kB 3.4MB/s \n",
            "\u001b[?25h  Building wheel for uuid (setup.py) ... \u001b[?25l\u001b[?25hdone\n",
            "\n",
            "Input:\n",
            "{'cards': [13, 12, 11, 8, 7, 5, 3], 'query': 8}\n",
            "\n",
            "Expected Output:\n",
            "3\n",
            "\n",
            "\n",
            "Actual Output:\n",
            "3\n",
            "\n",
            "Execution Time:\n",
            "0.006 ms\n",
            "\n",
            "Test Result:\n",
            "\u001b[92mPASSED\u001b[0m\n",
            "\n"
          ],
          "name": "stdout"
        },
        {
          "output_type": "execute_result",
          "data": {
            "text/plain": [
              "(3, True, 0.006)"
            ]
          },
          "metadata": {
            "tags": []
          },
          "execution_count": 13
        }
      ]
    },
    {
      "cell_type": "code",
      "metadata": {
        "colab": {
          "base_uri": "https://localhost:8080/"
        },
        "id": "feXezW20KIH6",
        "outputId": "f46dff3f-db34-4651-f202-cee5fc32ab3a"
      },
      "source": [
        "from jovian.pythondsa import evaluate_test_cases\r\n",
        "evaluate_test_cases(locate_card , tests)"
      ],
      "execution_count": null,
      "outputs": [
        {
          "output_type": "stream",
          "text": [
            "\n",
            "\u001b[1mTEST CASE #0\u001b[0m\n",
            "\n",
            "Input:\n",
            "{'cards': [13, 12, 11, 8, 7, 5, 3], 'query': 8}\n",
            "\n",
            "Expected Output:\n",
            "3\n",
            "\n",
            "\n",
            "Actual Output:\n",
            "3\n",
            "\n",
            "Execution Time:\n",
            "0.006 ms\n",
            "\n",
            "Test Result:\n",
            "\u001b[92mPASSED\u001b[0m\n",
            "\n",
            "\n",
            "\u001b[1mTEST CASE #1\u001b[0m\n",
            "\n",
            "Input:\n",
            "{'cards': [5, 4, 3, 2, -1, 0, -12], 'query': 0}\n",
            "\n",
            "Expected Output:\n",
            "5\n",
            "\n",
            "\n",
            "Actual Output:\n",
            "5\n",
            "\n",
            "Execution Time:\n",
            "0.005 ms\n",
            "\n",
            "Test Result:\n",
            "\u001b[92mPASSED\u001b[0m\n",
            "\n",
            "\n",
            "\u001b[1mTEST CASE #2\u001b[0m\n",
            "\n",
            "Input:\n",
            "{'cards': [13, 11, 10, 7, 4, 3, 1, 0], 'query': 1}\n",
            "\n",
            "Expected Output:\n",
            "6\n",
            "\n",
            "\n",
            "Actual Output:\n",
            "6\n",
            "\n",
            "Execution Time:\n",
            "0.02 ms\n",
            "\n",
            "Test Result:\n",
            "\u001b[92mPASSED\u001b[0m\n",
            "\n",
            "\n",
            "\u001b[1mTEST CASE #3\u001b[0m\n",
            "\n",
            "Input:\n",
            "{'cards': [4, 2, 1, -1], 'query': 4}\n",
            "\n",
            "Expected Output:\n",
            "0\n",
            "\n",
            "\n",
            "Actual Output:\n",
            "0\n",
            "\n",
            "Execution Time:\n",
            "0.002 ms\n",
            "\n",
            "Test Result:\n",
            "\u001b[92mPASSED\u001b[0m\n",
            "\n",
            "\n",
            "\u001b[1mTEST CASE #4\u001b[0m\n",
            "\n",
            "Input:\n",
            "{'cards': [3, -1, -9, -127], 'query': -127}\n",
            "\n",
            "Expected Output:\n",
            "3\n",
            "\n",
            "\n",
            "Actual Output:\n",
            "3\n",
            "\n",
            "Execution Time:\n",
            "0.003 ms\n",
            "\n",
            "Test Result:\n",
            "\u001b[92mPASSED\u001b[0m\n",
            "\n",
            "\n",
            "\u001b[1mTEST CASE #5\u001b[0m\n",
            "\n",
            "Input:\n",
            "{'cards': [6], 'query': 6}\n",
            "\n",
            "Expected Output:\n",
            "0\n",
            "\n",
            "\n",
            "Actual Output:\n",
            "0\n",
            "\n",
            "Execution Time:\n",
            "0.002 ms\n",
            "\n",
            "Test Result:\n",
            "\u001b[92mPASSED\u001b[0m\n",
            "\n",
            "\n",
            "\u001b[1mTEST CASE #6\u001b[0m\n",
            "\n",
            "Input:\n",
            "{'cards': [9, 7, 5, 2, -9], 'query': 4}\n",
            "\n",
            "Expected Output:\n",
            "-1\n",
            "\n",
            "\n",
            "Actual Output:\n",
            "-1\n",
            "\n",
            "Execution Time:\n",
            "0.004 ms\n",
            "\n",
            "Test Result:\n",
            "\u001b[92mPASSED\u001b[0m\n",
            "\n",
            "\n",
            "\u001b[1mTEST CASE #7\u001b[0m\n",
            "\n",
            "Input:\n",
            "{'cards': [], 'query': 7}\n",
            "\n",
            "Expected Output:\n",
            "-1\n",
            "\n",
            "\n",
            "Actual Output:\n",
            "-1\n",
            "\n",
            "Execution Time:\n",
            "0.002 ms\n",
            "\n",
            "Test Result:\n",
            "\u001b[92mPASSED\u001b[0m\n",
            "\n",
            "\n",
            "\u001b[1mTEST CASE #8\u001b[0m\n",
            "\n",
            "Input:\n",
            "{'cards': [8, 8, 6, 6, 6, 6, 6, 3, 2, 2, 2, 0, 0, 0], 'query': 3}\n",
            "\n",
            "Expected Output:\n",
            "7\n",
            "\n",
            "\n",
            "Actual Output:\n",
            "7\n",
            "\n",
            "Execution Time:\n",
            "0.006 ms\n",
            "\n",
            "Test Result:\n",
            "\u001b[92mPASSED\u001b[0m\n",
            "\n",
            "\n",
            "\u001b[1mTEST CASE #9\u001b[0m\n",
            "\n",
            "Input:\n",
            "{'cards': [8, 8, 6, 6, 6, 6, 6, 6, 3, 2, 2, 2, 0, 0, 0], 'query': 6}\n",
            "\n",
            "Expected Output:\n",
            "2\n",
            "\n",
            "\n",
            "Actual Output:\n",
            "2\n",
            "\n",
            "Execution Time:\n",
            "0.009 ms\n",
            "\n",
            "Test Result:\n",
            "\u001b[92mPASSED\u001b[0m\n",
            "\n",
            "\n",
            "\u001b[1mSUMMARY\u001b[0m\n",
            "\n",
            "TOTAL: 10, \u001b[92mPASSED\u001b[0m: 10, \u001b[91mFAILED\u001b[0m: 0\n"
          ],
          "name": "stdout"
        },
        {
          "output_type": "execute_result",
          "data": {
            "text/plain": [
              "[(3, True, 0.006),\n",
              " (5, True, 0.005),\n",
              " (6, True, 0.02),\n",
              " (0, True, 0.002),\n",
              " (3, True, 0.003),\n",
              " (0, True, 0.002),\n",
              " (-1, True, 0.004),\n",
              " (-1, True, 0.002),\n",
              " (7, True, 0.006),\n",
              " (2, True, 0.009)]"
            ]
          },
          "metadata": {
            "tags": []
          },
          "execution_count": 15
        }
      ]
    },
    {
      "cell_type": "code",
      "metadata": {
        "id": "2vxXMxs5Lzzy"
      },
      "source": [
        "# optimizing search using binary search \r\n",
        "def locate_card(cards , query):\r\n",
        "   low , hi = 0 , len(cards)-1\r\n",
        "   while low<=hi:\r\n",
        "     mid = (low+hi)//2\r\n",
        "     if query == cards[mid]:\r\n",
        "       return mid\r\n",
        "     elif cards[mid]<query:\r\n",
        "       hi=mid-1\r\n",
        "     elif cards[mid]>query:\r\n",
        "       low=mid+1\r\n",
        "   return -1"
      ],
      "execution_count": null,
      "outputs": []
    },
    {
      "cell_type": "code",
      "metadata": {
        "colab": {
          "base_uri": "https://localhost:8080/"
        },
        "id": "QE0wOxJxMo-c",
        "outputId": "6f70344c-b3f1-4465-d1db-8be16a7f5b43"
      },
      "source": [
        "evaluate_test_case(locate_card,test)"
      ],
      "execution_count": null,
      "outputs": [
        {
          "output_type": "stream",
          "text": [
            "\n",
            "Input:\n",
            "{'cards': [13, 12, 11, 8, 7, 5, 3], 'query': 8}\n",
            "\n",
            "Expected Output:\n",
            "3\n",
            "\n",
            "\n",
            "Actual Output:\n",
            "3\n",
            "\n",
            "Execution Time:\n",
            "0.004 ms\n",
            "\n",
            "Test Result:\n",
            "\u001b[92mPASSED\u001b[0m\n",
            "\n"
          ],
          "name": "stdout"
        },
        {
          "output_type": "execute_result",
          "data": {
            "text/plain": [
              "(3, True, 0.004)"
            ]
          },
          "metadata": {
            "tags": []
          },
          "execution_count": 22
        }
      ]
    },
    {
      "cell_type": "code",
      "metadata": {
        "colab": {
          "base_uri": "https://localhost:8080/"
        },
        "id": "VZBvGCAAR697",
        "outputId": "cbd9f99c-a94a-4600-ef02-a707e50fdac1"
      },
      "source": [
        "evaluate_test_cases(locate_card,tests)"
      ],
      "execution_count": null,
      "outputs": [
        {
          "output_type": "stream",
          "text": [
            "\n",
            "\u001b[1mTEST CASE #0\u001b[0m\n",
            "\n",
            "Input:\n",
            "{'cards': [13, 12, 11, 8, 7, 5, 3], 'query': 8}\n",
            "\n",
            "Expected Output:\n",
            "3\n",
            "\n",
            "\n",
            "Actual Output:\n",
            "3\n",
            "\n",
            "Execution Time:\n",
            "0.004 ms\n",
            "\n",
            "Test Result:\n",
            "\u001b[92mPASSED\u001b[0m\n",
            "\n",
            "\n",
            "\u001b[1mTEST CASE #1\u001b[0m\n",
            "\n",
            "Input:\n",
            "{'cards': [5, 4, 3, 2, -1, 0, -12], 'query': 0}\n",
            "\n",
            "Expected Output:\n",
            "5\n",
            "\n",
            "\n",
            "Actual Output:\n",
            "5\n",
            "\n",
            "Execution Time:\n",
            "0.005 ms\n",
            "\n",
            "Test Result:\n",
            "\u001b[92mPASSED\u001b[0m\n",
            "\n",
            "\n",
            "\u001b[1mTEST CASE #2\u001b[0m\n",
            "\n",
            "Input:\n",
            "{'cards': [13, 11, 10, 7, 4, 3, 1, 0], 'query': 1}\n",
            "\n",
            "Expected Output:\n",
            "6\n",
            "\n",
            "\n",
            "Actual Output:\n",
            "6\n",
            "\n",
            "Execution Time:\n",
            "0.005 ms\n",
            "\n",
            "Test Result:\n",
            "\u001b[92mPASSED\u001b[0m\n",
            "\n",
            "\n",
            "\u001b[1mTEST CASE #3\u001b[0m\n",
            "\n",
            "Input:\n",
            "{'cards': [4, 2, 1, -1], 'query': 4}\n",
            "\n",
            "Expected Output:\n",
            "0\n",
            "\n",
            "\n",
            "Actual Output:\n",
            "0\n",
            "\n",
            "Execution Time:\n",
            "0.003 ms\n",
            "\n",
            "Test Result:\n",
            "\u001b[92mPASSED\u001b[0m\n",
            "\n",
            "\n",
            "\u001b[1mTEST CASE #4\u001b[0m\n",
            "\n",
            "Input:\n",
            "{'cards': [3, -1, -9, -127], 'query': -127}\n",
            "\n",
            "Expected Output:\n",
            "3\n",
            "\n",
            "\n",
            "Actual Output:\n",
            "3\n",
            "\n",
            "Execution Time:\n",
            "0.004 ms\n",
            "\n",
            "Test Result:\n",
            "\u001b[92mPASSED\u001b[0m\n",
            "\n",
            "\n",
            "\u001b[1mTEST CASE #5\u001b[0m\n",
            "\n",
            "Input:\n",
            "{'cards': [6], 'query': 6}\n",
            "\n",
            "Expected Output:\n",
            "0\n",
            "\n",
            "\n",
            "Actual Output:\n",
            "0\n",
            "\n",
            "Execution Time:\n",
            "0.002 ms\n",
            "\n",
            "Test Result:\n",
            "\u001b[92mPASSED\u001b[0m\n",
            "\n",
            "\n",
            "\u001b[1mTEST CASE #6\u001b[0m\n",
            "\n",
            "Input:\n",
            "{'cards': [9, 7, 5, 2, -9], 'query': 4}\n",
            "\n",
            "Expected Output:\n",
            "-1\n",
            "\n",
            "\n",
            "Actual Output:\n",
            "-1\n",
            "\n",
            "Execution Time:\n",
            "0.004 ms\n",
            "\n",
            "Test Result:\n",
            "\u001b[92mPASSED\u001b[0m\n",
            "\n",
            "\n",
            "\u001b[1mTEST CASE #7\u001b[0m\n",
            "\n",
            "Input:\n",
            "{'cards': [], 'query': 7}\n",
            "\n",
            "Expected Output:\n",
            "-1\n",
            "\n",
            "\n",
            "Actual Output:\n",
            "-1\n",
            "\n",
            "Execution Time:\n",
            "0.002 ms\n",
            "\n",
            "Test Result:\n",
            "\u001b[92mPASSED\u001b[0m\n",
            "\n",
            "\n",
            "\u001b[1mTEST CASE #8\u001b[0m\n",
            "\n",
            "Input:\n",
            "{'cards': [8, 8, 6, 6, 6, 6, 6, 3, 2, 2, 2, 0, 0, 0], 'query': 3}\n",
            "\n",
            "Expected Output:\n",
            "7\n",
            "\n",
            "\n",
            "Actual Output:\n",
            "7\n",
            "\n",
            "Execution Time:\n",
            "0.005 ms\n",
            "\n",
            "Test Result:\n",
            "\u001b[92mPASSED\u001b[0m\n",
            "\n",
            "\n",
            "\u001b[1mTEST CASE #9\u001b[0m\n",
            "\n",
            "Input:\n",
            "{'cards': [8, 8, 6, 6, 6, 6, 6, 6, 3, 2, 2, 2, 0, 0, 0], 'query': 6}\n",
            "\n",
            "Expected Output:\n",
            "2\n",
            "\n",
            "\n",
            "Actual Output:\n",
            "7\n",
            "\n",
            "Execution Time:\n",
            "0.003 ms\n",
            "\n",
            "Test Result:\n",
            "\u001b[91mFAILED\u001b[0m\n",
            "\n",
            "\n",
            "\u001b[1mSUMMARY\u001b[0m\n",
            "\n",
            "TOTAL: 10, \u001b[92mPASSED\u001b[0m: 9, \u001b[91mFAILED\u001b[0m: 1\n"
          ],
          "name": "stdout"
        },
        {
          "output_type": "execute_result",
          "data": {
            "text/plain": [
              "[(3, True, 0.004),\n",
              " (5, True, 0.005),\n",
              " (6, True, 0.005),\n",
              " (0, True, 0.003),\n",
              " (3, True, 0.004),\n",
              " (0, True, 0.002),\n",
              " (-1, True, 0.004),\n",
              " (-1, True, 0.002),\n",
              " (7, True, 0.005),\n",
              " (7, False, 0.003)]"
            ]
          },
          "metadata": {
            "tags": []
          },
          "execution_count": 23
        }
      ]
    },
    {
      "cell_type": "code",
      "metadata": {
        "id": "8d--ExqGSHDt"
      },
      "source": [
        "# lost one test case , that is the algo has correctly identified the query , but failed to identify the first occurence of the query\r\n",
        "#Binary search for descending order\r\n",
        "\r\n",
        "def test_location(cards, query, mid):\r\n",
        "    mid_number = cards[mid]\r\n",
        "    #print(\"mid:\", mid, \", mid_number:\", mid_number)\r\n",
        "    if mid_number == query:\r\n",
        "        if mid-1 >= 0 and cards[mid-1] == query:\r\n",
        "            return 'left'\r\n",
        "        else:\r\n",
        "            return 'found'\r\n",
        "    elif mid_number < query:\r\n",
        "        return 'left'\r\n",
        "    else:\r\n",
        "        return 'right'\r\n",
        "\r\n",
        "def locate_card(cards, query):\r\n",
        "    lo, hi = 0, len(cards) - 1\r\n",
        "    \r\n",
        "    while lo <= hi:\r\n",
        "        #print(\"lo:\", lo, \", hi:\", hi)\r\n",
        "        mid = (lo + hi) // 2\r\n",
        "        result = test_location(cards, query, mid)\r\n",
        "        \r\n",
        "        if result == 'found':\r\n",
        "            return mid\r\n",
        "        elif result == 'left':\r\n",
        "            hi = mid - 1\r\n",
        "        elif result == 'right':\r\n",
        "            lo = mid + 1\r\n",
        "    return -1\r\n"
      ],
      "execution_count": null,
      "outputs": []
    },
    {
      "cell_type": "code",
      "metadata": {
        "colab": {
          "base_uri": "https://localhost:8080/"
        },
        "id": "QGXkEuEQXOuM",
        "outputId": "96fe5f3f-7353-48c1-d9a9-b8568de74a1b"
      },
      "source": [
        "evaluate_test_case(locate_card,test)"
      ],
      "execution_count": null,
      "outputs": [
        {
          "output_type": "stream",
          "text": [
            "\n",
            "Input:\n",
            "{'cards': [13, 12, 11, 8, 7, 5, 3], 'query': 8}\n",
            "\n",
            "Expected Output:\n",
            "3\n",
            "\n",
            "\n",
            "Actual Output:\n",
            "3\n",
            "\n",
            "Execution Time:\n",
            "0.007 ms\n",
            "\n",
            "Test Result:\n",
            "\u001b[92mPASSED\u001b[0m\n",
            "\n"
          ],
          "name": "stdout"
        },
        {
          "output_type": "execute_result",
          "data": {
            "text/plain": [
              "(3, True, 0.007)"
            ]
          },
          "metadata": {
            "tags": []
          },
          "execution_count": 33
        }
      ]
    },
    {
      "cell_type": "code",
      "metadata": {
        "colab": {
          "base_uri": "https://localhost:8080/"
        },
        "id": "WbGnV1HCXVf7",
        "outputId": "1fece8e0-c3f2-4581-c517-504de5203209"
      },
      "source": [
        "evaluate_test_cases(locate_card,tests)"
      ],
      "execution_count": null,
      "outputs": [
        {
          "output_type": "stream",
          "text": [
            "\n",
            "\u001b[1mTEST CASE #0\u001b[0m\n",
            "\n",
            "Input:\n",
            "{'cards': [13, 12, 11, 8, 7, 5, 3], 'query': 8}\n",
            "\n",
            "Expected Output:\n",
            "3\n",
            "\n",
            "\n",
            "Actual Output:\n",
            "3\n",
            "\n",
            "Execution Time:\n",
            "0.007 ms\n",
            "\n",
            "Test Result:\n",
            "\u001b[92mPASSED\u001b[0m\n",
            "\n",
            "\n",
            "\u001b[1mTEST CASE #1\u001b[0m\n",
            "\n",
            "Input:\n",
            "{'cards': [5, 4, 3, 2, -1, 0, -12], 'query': 0}\n",
            "\n",
            "Expected Output:\n",
            "5\n",
            "\n",
            "\n",
            "Actual Output:\n",
            "5\n",
            "\n",
            "Execution Time:\n",
            "0.008 ms\n",
            "\n",
            "Test Result:\n",
            "\u001b[92mPASSED\u001b[0m\n",
            "\n",
            "\n",
            "\u001b[1mTEST CASE #2\u001b[0m\n",
            "\n",
            "Input:\n",
            "{'cards': [13, 11, 10, 7, 4, 3, 1, 0], 'query': 1}\n",
            "\n",
            "Expected Output:\n",
            "6\n",
            "\n",
            "\n",
            "Actual Output:\n",
            "6\n",
            "\n",
            "Execution Time:\n",
            "0.007 ms\n",
            "\n",
            "Test Result:\n",
            "\u001b[92mPASSED\u001b[0m\n",
            "\n",
            "\n",
            "\u001b[1mTEST CASE #3\u001b[0m\n",
            "\n",
            "Input:\n",
            "{'cards': [4, 2, 1, -1], 'query': 4}\n",
            "\n",
            "Expected Output:\n",
            "0\n",
            "\n",
            "\n",
            "Actual Output:\n",
            "0\n",
            "\n",
            "Execution Time:\n",
            "0.019 ms\n",
            "\n",
            "Test Result:\n",
            "\u001b[92mPASSED\u001b[0m\n",
            "\n",
            "\n",
            "\u001b[1mTEST CASE #4\u001b[0m\n",
            "\n",
            "Input:\n",
            "{'cards': [3, -1, -9, -127], 'query': -127}\n",
            "\n",
            "Expected Output:\n",
            "3\n",
            "\n",
            "\n",
            "Actual Output:\n",
            "3\n",
            "\n",
            "Execution Time:\n",
            "0.006 ms\n",
            "\n",
            "Test Result:\n",
            "\u001b[92mPASSED\u001b[0m\n",
            "\n",
            "\n",
            "\u001b[1mTEST CASE #5\u001b[0m\n",
            "\n",
            "Input:\n",
            "{'cards': [6], 'query': 6}\n",
            "\n",
            "Expected Output:\n",
            "0\n",
            "\n",
            "\n",
            "Actual Output:\n",
            "0\n",
            "\n",
            "Execution Time:\n",
            "0.004 ms\n",
            "\n",
            "Test Result:\n",
            "\u001b[92mPASSED\u001b[0m\n",
            "\n",
            "\n",
            "\u001b[1mTEST CASE #6\u001b[0m\n",
            "\n",
            "Input:\n",
            "{'cards': [9, 7, 5, 2, -9], 'query': 4}\n",
            "\n",
            "Expected Output:\n",
            "-1\n",
            "\n",
            "\n",
            "Actual Output:\n",
            "-1\n",
            "\n",
            "Execution Time:\n",
            "0.006 ms\n",
            "\n",
            "Test Result:\n",
            "\u001b[92mPASSED\u001b[0m\n",
            "\n",
            "\n",
            "\u001b[1mTEST CASE #7\u001b[0m\n",
            "\n",
            "Input:\n",
            "{'cards': [], 'query': 7}\n",
            "\n",
            "Expected Output:\n",
            "-1\n",
            "\n",
            "\n",
            "Actual Output:\n",
            "-1\n",
            "\n",
            "Execution Time:\n",
            "0.003 ms\n",
            "\n",
            "Test Result:\n",
            "\u001b[92mPASSED\u001b[0m\n",
            "\n",
            "\n",
            "\u001b[1mTEST CASE #8\u001b[0m\n",
            "\n",
            "Input:\n",
            "{'cards': [8, 8, 6, 6, 6, 6, 6, 3, 2, 2, 2, 0, 0, 0], 'query': 3}\n",
            "\n",
            "Expected Output:\n",
            "7\n",
            "\n",
            "\n",
            "Actual Output:\n",
            "7\n",
            "\n",
            "Execution Time:\n",
            "0.008 ms\n",
            "\n",
            "Test Result:\n",
            "\u001b[92mPASSED\u001b[0m\n",
            "\n",
            "\n",
            "\u001b[1mTEST CASE #9\u001b[0m\n",
            "\n",
            "Input:\n",
            "{'cards': [8, 8, 6, 6, 6, 6, 6, 6, 3, 2, 2, 2, 0, 0, 0], 'query': 6}\n",
            "\n",
            "Expected Output:\n",
            "2\n",
            "\n",
            "\n",
            "Actual Output:\n",
            "2\n",
            "\n",
            "Execution Time:\n",
            "0.006 ms\n",
            "\n",
            "Test Result:\n",
            "\u001b[92mPASSED\u001b[0m\n",
            "\n",
            "\n",
            "\u001b[1mSUMMARY\u001b[0m\n",
            "\n",
            "TOTAL: 10, \u001b[92mPASSED\u001b[0m: 10, \u001b[91mFAILED\u001b[0m: 0\n"
          ],
          "name": "stdout"
        },
        {
          "output_type": "execute_result",
          "data": {
            "text/plain": [
              "[(3, True, 0.007),\n",
              " (5, True, 0.008),\n",
              " (6, True, 0.007),\n",
              " (0, True, 0.019),\n",
              " (3, True, 0.006),\n",
              " (0, True, 0.004),\n",
              " (-1, True, 0.006),\n",
              " (-1, True, 0.003),\n",
              " (7, True, 0.008),\n",
              " (2, True, 0.006)]"
            ]
          },
          "metadata": {
            "tags": []
          },
          "execution_count": 34
        }
      ]
    },
    {
      "cell_type": "code",
      "metadata": {
        "colab": {
          "base_uri": "https://localhost:8080/"
        },
        "id": "BsNQgm7hZVdx",
        "outputId": "3656c9f5-c4c3-42b2-900e-a9751465737a"
      },
      "source": [
        "def helper(mid,cards,query):    #for ascending order\r\n",
        "  if cards[mid]==query:\r\n",
        "    if mid-1>0 & cards[mid-1]==query:\r\n",
        "      return 'left'\r\n",
        "    else:\r\n",
        "      return 'found'\r\n",
        "  elif cards[mid]>query:\r\n",
        "    return 'left'\r\n",
        "  else:\r\n",
        "    return 'right'\r\n",
        "\r\n",
        "def locate_card_asc(cards,query):\r\n",
        "  lo,hi = 0,len(cards)-1\r\n",
        "  while lo<=hi:\r\n",
        "    mid=(lo+hi)//2\r\n",
        "    result=helper(mid,cards,query)\r\n",
        "    if result=='found':\r\n",
        "      return mid\r\n",
        "    elif result=='left':\r\n",
        "      hi=mid-1\r\n",
        "    elif result=='right':\r\n",
        "      lo=mid+1\r\n",
        "  return -1\r\n",
        "evaluate_test_case(locate_card_asc,test)"
      ],
      "execution_count": null,
      "outputs": [
        {
          "output_type": "stream",
          "text": [
            "\n",
            "Input:\n",
            "{'cards': [13, 12, 11, 8, 7, 5, 3], 'query': 8}\n",
            "\n",
            "Expected Output:\n",
            "3\n",
            "\n",
            "\n",
            "Actual Output:\n",
            "3\n",
            "\n",
            "Execution Time:\n",
            "0.006 ms\n",
            "\n",
            "Test Result:\n",
            "\u001b[92mPASSED\u001b[0m\n",
            "\n"
          ],
          "name": "stdout"
        },
        {
          "output_type": "execute_result",
          "data": {
            "text/plain": [
              "(3, True, 0.006)"
            ]
          },
          "metadata": {
            "tags": []
          },
          "execution_count": 38
        }
      ]
    },
    {
      "cell_type": "code",
      "metadata": {
        "colab": {
          "base_uri": "https://localhost:8080/"
        },
        "id": "ssq0H9r3cnj_",
        "outputId": "71025234-d1c5-4a02-b370-b780676b85a3"
      },
      "source": [
        "evaluate_test_case(locate_card_asc,ascending_test)"
      ],
      "execution_count": null,
      "outputs": [
        {
          "output_type": "stream",
          "text": [
            "\n",
            "Input:\n",
            "{'cards': [1, 2, 3, 4, 4, 4, 5, 6], 'query': 4}\n",
            "\n",
            "Expected Output:\n",
            "3\n",
            "\n",
            "\n",
            "Actual Output:\n",
            "3\n",
            "\n",
            "Execution Time:\n",
            "0.006 ms\n",
            "\n",
            "Test Result:\n",
            "\u001b[92mPASSED\u001b[0m\n",
            "\n"
          ],
          "name": "stdout"
        },
        {
          "output_type": "execute_result",
          "data": {
            "text/plain": [
              "(3, True, 0.006)"
            ]
          },
          "metadata": {
            "tags": []
          },
          "execution_count": 41
        }
      ]
    },
    {
      "cell_type": "code",
      "metadata": {
        "id": "4bi5qbpBcvgX"
      },
      "source": [
        "ascending_test={\r\n",
        "    'input':{\r\n",
        "        'cards':[1,2,3,4,4,4,5,6],\r\n",
        "        'query':4\r\n",
        "    },\r\n",
        "    'output':3\r\n",
        "}"
      ],
      "execution_count": null,
      "outputs": []
    },
    {
      "cell_type": "markdown",
      "metadata": {
        "id": "iHxCz_CYdrgr"
      },
      "source": [
        "**Here's a systematic strategy we've applied for solving the problem:**\r\n",
        "\r\n",
        "State the problem clearly. \r\n",
        "\r\n",
        "Identify the input & output formats.\r\n",
        "\r\n",
        "\r\n",
        "Come up with some example inputs & outputs.\r\n",
        "\r\n",
        "Try to cover all edge cases.\r\n",
        "\r\n",
        "Come up with a correct solution for the problem.\r\n",
        "\r\n",
        "State it in plain English.\r\n",
        "\r\n",
        "Implement the solution and test it using example inputs.\r\n",
        "\r\n",
        "Fix bugs, if any.\r\n",
        "\r\n",
        "Analyze the algorithm's complexity and identify inefficiencies, if any.\r\n",
        "\r\n",
        "Apply the right technique to overcome the inefficiency.\r\n",
        "\r\n",
        "Repeat steps 3 to 6"
      ]
    },
    {
      "cell_type": "code",
      "metadata": {
        "id": "1abXatRqgu0h"
      },
      "source": [
        "#LeetCode problem\r\n",
        "#solution accepted\r\n",
        "class Solution:\r\n",
        "    def search(self, nums: List[int], target: int) -> int:\r\n",
        "      hi,lo=(len(nums)-1),0\r\n",
        "      while lo<=hi:\r\n",
        "        mid=(lo+hi)//2\r\n",
        "        if nums[mid]==target:\r\n",
        "          return mid\r\n",
        "        elif nums[mid]>target:\r\n",
        "          hi=mid-1\r\n",
        "        elif nums[mid]<target:\r\n",
        "          lo=mid+1\r\n",
        "      return -1"
      ],
      "execution_count": null,
      "outputs": []
    },
    {
      "cell_type": "code",
      "metadata": {
        "colab": {
          "base_uri": "https://localhost:8080/"
        },
        "id": "PnPfxdwIgx57",
        "outputId": "19e75532-f121-4e01-a31e-acc671661645"
      },
      "source": [
        "#Recursive implementation\r\n",
        "def search(lo,hi,arr,target):\r\n",
        "  while lo<=hi:\r\n",
        "      mid=(lo+hi)//2\r\n",
        "      if arr[mid]==target:\r\n",
        "        return mid\r\n",
        "      elif arr[mid]>target:\r\n",
        "        search(lo,mid-1,arr,target)\r\n",
        "      elif arr[mid]<target:\r\n",
        "        search(mid-1,hi,arr,target)\r\n",
        "  return -1\r\n",
        "a=[1,2,3,4,5,6,7]\r\n",
        "search(0,(len(a)-1),a,4)"
      ],
      "execution_count": null,
      "outputs": [
        {
          "output_type": "execute_result",
          "data": {
            "text/plain": [
              "3"
            ]
          },
          "metadata": {
            "tags": []
          },
          "execution_count": 1
        }
      ]
    },
    {
      "cell_type": "code",
      "metadata": {
        "id": "TxE00jVGg1VR"
      },
      "source": [
        "# NEW PROBLEM FOR ASSIGNMENT"
      ],
      "execution_count": 1,
      "outputs": []
    },
    {
      "cell_type": "code",
      "metadata": {
        "id": "7GmYVNaX-RxQ",
        "outputId": "07400835-355b-43bc-815a-fb1c1af1727e",
        "colab": {
          "base_uri": "https://localhost:8080/"
        }
      },
      "source": [
        "!pip install jovian --upgrade --quiet\r\n",
        "import jovian"
      ],
      "execution_count": 2,
      "outputs": [
        {
          "output_type": "stream",
          "text": [
            "\u001b[?25l\r\u001b[K     |████▉                           | 10kB 17.1MB/s eta 0:00:01\r\u001b[K     |█████████▊                      | 20kB 21.0MB/s eta 0:00:01\r\u001b[K     |██████████████▌                 | 30kB 18.2MB/s eta 0:00:01\r\u001b[K     |███████████████████▍            | 40kB 9.4MB/s eta 0:00:01\r\u001b[K     |████████████████████████▏       | 51kB 9.0MB/s eta 0:00:01\r\u001b[K     |█████████████████████████████   | 61kB 8.4MB/s eta 0:00:01\r\u001b[K     |████████████████████████████████| 71kB 4.7MB/s \n",
            "\u001b[?25h  Building wheel for uuid (setup.py) ... \u001b[?25l\u001b[?25hdone\n"
          ],
          "name": "stdout"
        }
      ]
    },
    {
      "cell_type": "markdown",
      "metadata": {
        "id": "v5lkP0GS-fML"
      },
      "source": [
        "## Problem - Rotated Lists\r\n",
        "\r\n",
        "We'll solve the following problem step-by-step:\r\n",
        "\r\n",
        "> You are given list of numbers, obtained by rotating a sorted list an unknown number of times. Write a function to determine the minimum number of times the original sorted list was rotated to obtain the given list. Your function should have the worst-case complexity of `O(log N)`, where N is the length of the list. You can assume that all the numbers in the list are unique.\r\n",
        ">\r\n",
        "> Example: The list `[5, 6, 9, 0, 2, 3, 4]` was obtained by rotating the sorted list `[0, 2, 3, 4, 5, 6, 9]` 3 times.\r\n",
        ">\r\n",
        "> We define \"rotating a list\" as removing the last element of the list and adding it before the first element. E.g. rotating the list `[3, 2, 4, 1]` produces `[1, 3, 2, 4]`. \r\n",
        ">\r\n",
        ">\"Sorted list\" refers to a list where the elements are arranged in the increasing order  e.g. `[1, 3, 5, 7]`.\r\n",
        ">"
      ]
    },
    {
      "cell_type": "code",
      "metadata": {
        "id": "N4HbPCvR-bBe"
      },
      "source": [
        "# Defining Test case"
      ],
      "execution_count": 3,
      "outputs": []
    },
    {
      "cell_type": "code",
      "metadata": {
        "id": "_Ulm3Bd1-imt"
      },
      "source": [
        "test = {\r\n",
        "    'input': {\r\n",
        "        'nums': [19, 25, 29, 3, 5, 6, 7, 9, 11, 14]\r\n",
        "    },\r\n",
        "    'output': 3\r\n",
        "}\r\n",
        "from jovian.pythondsa import evaluate_test_case\r\n",
        "test0 = test\r\n",
        "# A list of size 8 rotated 5 times.\r\n",
        "test1 = {\r\n",
        "    'input': {\r\n",
        "        'nums': [4,5,6,7,8,1,2,3]\r\n",
        "    },\r\n",
        "    'output': 5\r\n",
        "}\r\n",
        "# A list that wasn't rotated at all.\r\n",
        "test2 = {\r\n",
        "    'input': {\r\n",
        "        'nums': [1,2,3,4]\r\n",
        "    },\r\n",
        "    'output': 0\r\n",
        "}\r\n",
        "# A list that was rotated just once.\r\n",
        "test3 = {\r\n",
        "    'input': {\r\n",
        "        'nums': [4,1,2,3]\r\n",
        "    },\r\n",
        "    'output': 1\r\n",
        "}\r\n",
        "# A list that was rotated n-1 times, where n is the size of the list.\r\n",
        "test4 = {\r\n",
        "    'input': {\r\n",
        "        'nums': [2,3,4,1]\r\n",
        "    },\r\n",
        "    'output': 3\r\n",
        "}\r\n",
        "# A list that was rotated n times, where n is the size of the list\r\n",
        "test5 = {\r\n",
        "    'input': {\r\n",
        "        'nums': [1,2,3,4]\r\n",
        "    },\r\n",
        "    'output': 0\r\n",
        "}\r\n",
        "# An empty list.\r\n",
        "test6 = {\r\n",
        "    'input': {\r\n",
        "        'nums': []\r\n",
        "    },\r\n",
        "    'output':0 \r\n",
        "}\r\n",
        "# A list containing just one element.\r\n",
        "test7 = {\r\n",
        "    'input': {\r\n",
        "        'nums': [1]\r\n",
        "    },\r\n",
        "    'output': 0\r\n",
        "}\r\n",
        "tests = [test0, test1, test2, test3, test3, test5, test6, test7]"
      ],
      "execution_count": 4,
      "outputs": []
    },
    {
      "cell_type": "code",
      "metadata": {
        "id": "PHYJcrwR_DaI"
      },
      "source": [
        "from jovian.pythondsa import evaluate_test_cases"
      ],
      "execution_count": 5,
      "outputs": []
    },
    {
      "cell_type": "code",
      "metadata": {
        "id": "VngEn8Mj_HAu"
      },
      "source": [
        "# Brute force approach \r\n",
        "def count_rotations_linear(nums):\r\n",
        "  if len(nums)>0:\r\n",
        "    for i in range(len(nums)-1):\r\n",
        "      if nums[i]>nums[i+1]:\r\n",
        "        return i+1\r\n",
        "    return 0\r\n",
        "  else:\r\n",
        "    return 0\r\n"
      ],
      "execution_count": 6,
      "outputs": []
    },
    {
      "cell_type": "code",
      "metadata": {
        "id": "C5wTycwx_SI8",
        "outputId": "d5ecbba5-9c46-45bb-bef0-9ffa89054455",
        "colab": {
          "base_uri": "https://localhost:8080/"
        }
      },
      "source": [
        "linear_search_result = evaluate_test_case(count_rotations_linear, test)"
      ],
      "execution_count": 7,
      "outputs": [
        {
          "output_type": "stream",
          "text": [
            "\n",
            "Input:\n",
            "{'nums': [19, 25, 29, 3, 5, 6, 7, 9, 11, 14]}\n",
            "\n",
            "Expected Output:\n",
            "3\n",
            "\n",
            "\n",
            "Actual Output:\n",
            "3\n",
            "\n",
            "Execution Time:\n",
            "0.006 ms\n",
            "\n",
            "Test Result:\n",
            "\u001b[92mPASSED\u001b[0m\n",
            "\n"
          ],
          "name": "stdout"
        }
      ]
    },
    {
      "cell_type": "code",
      "metadata": {
        "id": "GbrV6NwZ_chU",
        "outputId": "456159f5-d7bf-403e-9ff8-eff3c077a5aa",
        "colab": {
          "base_uri": "https://localhost:8080/"
        }
      },
      "source": [
        "linear_search_results = evaluate_test_cases(count_rotations_linear, tests)"
      ],
      "execution_count": 8,
      "outputs": [
        {
          "output_type": "stream",
          "text": [
            "\n",
            "\u001b[1mTEST CASE #0\u001b[0m\n",
            "\n",
            "Input:\n",
            "{'nums': [19, 25, 29, 3, 5, 6, 7, 9, 11, 14]}\n",
            "\n",
            "Expected Output:\n",
            "3\n",
            "\n",
            "\n",
            "Actual Output:\n",
            "3\n",
            "\n",
            "Execution Time:\n",
            "0.006 ms\n",
            "\n",
            "Test Result:\n",
            "\u001b[92mPASSED\u001b[0m\n",
            "\n",
            "\n",
            "\u001b[1mTEST CASE #1\u001b[0m\n",
            "\n",
            "Input:\n",
            "{'nums': [4, 5, 6, 7, 8, 1, 2, 3]}\n",
            "\n",
            "Expected Output:\n",
            "5\n",
            "\n",
            "\n",
            "Actual Output:\n",
            "5\n",
            "\n",
            "Execution Time:\n",
            "0.005 ms\n",
            "\n",
            "Test Result:\n",
            "\u001b[92mPASSED\u001b[0m\n",
            "\n",
            "\n",
            "\u001b[1mTEST CASE #2\u001b[0m\n",
            "\n",
            "Input:\n",
            "{'nums': [1, 2, 3, 4]}\n",
            "\n",
            "Expected Output:\n",
            "0\n",
            "\n",
            "\n",
            "Actual Output:\n",
            "0\n",
            "\n",
            "Execution Time:\n",
            "0.006 ms\n",
            "\n",
            "Test Result:\n",
            "\u001b[92mPASSED\u001b[0m\n",
            "\n",
            "\n",
            "\u001b[1mTEST CASE #3\u001b[0m\n",
            "\n",
            "Input:\n",
            "{'nums': [4, 1, 2, 3]}\n",
            "\n",
            "Expected Output:\n",
            "1\n",
            "\n",
            "\n",
            "Actual Output:\n",
            "1\n",
            "\n",
            "Execution Time:\n",
            "0.003 ms\n",
            "\n",
            "Test Result:\n",
            "\u001b[92mPASSED\u001b[0m\n",
            "\n",
            "\n",
            "\u001b[1mTEST CASE #4\u001b[0m\n",
            "\n",
            "Input:\n",
            "{'nums': [4, 1, 2, 3]}\n",
            "\n",
            "Expected Output:\n",
            "1\n",
            "\n",
            "\n",
            "Actual Output:\n",
            "1\n",
            "\n",
            "Execution Time:\n",
            "0.006 ms\n",
            "\n",
            "Test Result:\n",
            "\u001b[92mPASSED\u001b[0m\n",
            "\n",
            "\n",
            "\u001b[1mTEST CASE #5\u001b[0m\n",
            "\n",
            "Input:\n",
            "{'nums': [1, 2, 3, 4]}\n",
            "\n",
            "Expected Output:\n",
            "0\n",
            "\n",
            "\n",
            "Actual Output:\n",
            "0\n",
            "\n",
            "Execution Time:\n",
            "0.004 ms\n",
            "\n",
            "Test Result:\n",
            "\u001b[92mPASSED\u001b[0m\n",
            "\n",
            "\n",
            "\u001b[1mTEST CASE #6\u001b[0m\n",
            "\n",
            "Input:\n",
            "{'nums': []}\n",
            "\n",
            "Expected Output:\n",
            "0\n",
            "\n",
            "\n",
            "Actual Output:\n",
            "0\n",
            "\n",
            "Execution Time:\n",
            "0.002 ms\n",
            "\n",
            "Test Result:\n",
            "\u001b[92mPASSED\u001b[0m\n",
            "\n",
            "\n",
            "\u001b[1mTEST CASE #7\u001b[0m\n",
            "\n",
            "Input:\n",
            "{'nums': [1]}\n",
            "\n",
            "Expected Output:\n",
            "0\n",
            "\n",
            "\n",
            "Actual Output:\n",
            "0\n",
            "\n",
            "Execution Time:\n",
            "0.003 ms\n",
            "\n",
            "Test Result:\n",
            "\u001b[92mPASSED\u001b[0m\n",
            "\n",
            "\n",
            "\u001b[1mSUMMARY\u001b[0m\n",
            "\n",
            "TOTAL: 8, \u001b[92mPASSED\u001b[0m: 8, \u001b[91mFAILED\u001b[0m: 0\n"
          ],
          "name": "stdout"
        }
      ]
    },
    {
      "cell_type": "code",
      "metadata": {
        "id": "m48FltIL_hPE"
      },
      "source": [
        "#Binary Search technique\r\n",
        "def count_rotations_binary(nums):\r\n",
        "    lo = 0\r\n",
        "    hi = len(nums)-1\r\n",
        "    \r\n",
        "    while lo<=hi:\r\n",
        "        mid = (lo+hi)//2\r\n",
        "        mid_number = nums[mid]\r\n",
        "        \r\n",
        "        # Uncomment the next line for logging the values and fixing errors.\r\n",
        "        # print(\"lo:\", lo, \", hi:\", hi, \", mid:\", mid, \", mid_number:\", mid_number)\r\n",
        "        \r\n",
        "        if mid > 0 and nums[mid]<nums[mid-1]:\r\n",
        "            # The middle position is the answer\r\n",
        "            return mid\r\n",
        "        \r\n",
        "        elif nums[mid]<nums[-1]:\r\n",
        "            # Answer lies in the left half\r\n",
        "            hi = mid - 1  \r\n",
        "        \r\n",
        "        else:\r\n",
        "            # Answer lies in the right half\r\n",
        "            lo = mid + 1\r\n",
        "    \r\n",
        "    return 0"
      ],
      "execution_count": 9,
      "outputs": []
    },
    {
      "cell_type": "code",
      "metadata": {
        "id": "O3UXskN-_uhw",
        "outputId": "0e6e0ef7-f164-420b-d5e0-3dcbb45f9028",
        "colab": {
          "base_uri": "https://localhost:8080/"
        }
      },
      "source": [
        "binary_search_result = evaluate_test_case(count_rotations_binary, test)"
      ],
      "execution_count": 10,
      "outputs": [
        {
          "output_type": "stream",
          "text": [
            "\n",
            "Input:\n",
            "{'nums': [19, 25, 29, 3, 5, 6, 7, 9, 11, 14]}\n",
            "\n",
            "Expected Output:\n",
            "3\n",
            "\n",
            "\n",
            "Actual Output:\n",
            "3\n",
            "\n",
            "Execution Time:\n",
            "0.006 ms\n",
            "\n",
            "Test Result:\n",
            "\u001b[92mPASSED\u001b[0m\n",
            "\n"
          ],
          "name": "stdout"
        }
      ]
    },
    {
      "cell_type": "code",
      "metadata": {
        "id": "-19gBwDP_x_m",
        "outputId": "b82c7861-313c-4f74-d6b7-6739b19eb535",
        "colab": {
          "base_uri": "https://localhost:8080/"
        }
      },
      "source": [
        "binary_search_results = evaluate_test_cases(count_rotations_binary, tests)"
      ],
      "execution_count": 11,
      "outputs": [
        {
          "output_type": "stream",
          "text": [
            "\n",
            "\u001b[1mTEST CASE #0\u001b[0m\n",
            "\n",
            "Input:\n",
            "{'nums': [19, 25, 29, 3, 5, 6, 7, 9, 11, 14]}\n",
            "\n",
            "Expected Output:\n",
            "3\n",
            "\n",
            "\n",
            "Actual Output:\n",
            "3\n",
            "\n",
            "Execution Time:\n",
            "0.008 ms\n",
            "\n",
            "Test Result:\n",
            "\u001b[92mPASSED\u001b[0m\n",
            "\n",
            "\n",
            "\u001b[1mTEST CASE #1\u001b[0m\n",
            "\n",
            "Input:\n",
            "{'nums': [4, 5, 6, 7, 8, 1, 2, 3]}\n",
            "\n",
            "Expected Output:\n",
            "5\n",
            "\n",
            "\n",
            "Actual Output:\n",
            "5\n",
            "\n",
            "Execution Time:\n",
            "0.004 ms\n",
            "\n",
            "Test Result:\n",
            "\u001b[92mPASSED\u001b[0m\n",
            "\n",
            "\n",
            "\u001b[1mTEST CASE #2\u001b[0m\n",
            "\n",
            "Input:\n",
            "{'nums': [1, 2, 3, 4]}\n",
            "\n",
            "Expected Output:\n",
            "0\n",
            "\n",
            "\n",
            "Actual Output:\n",
            "0\n",
            "\n",
            "Execution Time:\n",
            "0.012 ms\n",
            "\n",
            "Test Result:\n",
            "\u001b[92mPASSED\u001b[0m\n",
            "\n",
            "\n",
            "\u001b[1mTEST CASE #3\u001b[0m\n",
            "\n",
            "Input:\n",
            "{'nums': [4, 1, 2, 3]}\n",
            "\n",
            "Expected Output:\n",
            "1\n",
            "\n",
            "\n",
            "Actual Output:\n",
            "1\n",
            "\n",
            "Execution Time:\n",
            "0.004 ms\n",
            "\n",
            "Test Result:\n",
            "\u001b[92mPASSED\u001b[0m\n",
            "\n",
            "\n",
            "\u001b[1mTEST CASE #4\u001b[0m\n",
            "\n",
            "Input:\n",
            "{'nums': [4, 1, 2, 3]}\n",
            "\n",
            "Expected Output:\n",
            "1\n",
            "\n",
            "\n",
            "Actual Output:\n",
            "1\n",
            "\n",
            "Execution Time:\n",
            "0.01 ms\n",
            "\n",
            "Test Result:\n",
            "\u001b[92mPASSED\u001b[0m\n",
            "\n",
            "\n",
            "\u001b[1mTEST CASE #5\u001b[0m\n",
            "\n",
            "Input:\n",
            "{'nums': [1, 2, 3, 4]}\n",
            "\n",
            "Expected Output:\n",
            "0\n",
            "\n",
            "\n",
            "Actual Output:\n",
            "0\n",
            "\n",
            "Execution Time:\n",
            "0.005 ms\n",
            "\n",
            "Test Result:\n",
            "\u001b[92mPASSED\u001b[0m\n",
            "\n",
            "\n",
            "\u001b[1mTEST CASE #6\u001b[0m\n",
            "\n",
            "Input:\n",
            "{'nums': []}\n",
            "\n",
            "Expected Output:\n",
            "0\n",
            "\n",
            "\n",
            "Actual Output:\n",
            "0\n",
            "\n",
            "Execution Time:\n",
            "0.009 ms\n",
            "\n",
            "Test Result:\n",
            "\u001b[92mPASSED\u001b[0m\n",
            "\n",
            "\n",
            "\u001b[1mTEST CASE #7\u001b[0m\n",
            "\n",
            "Input:\n",
            "{'nums': [1]}\n",
            "\n",
            "Expected Output:\n",
            "0\n",
            "\n",
            "\n",
            "Actual Output:\n",
            "0\n",
            "\n",
            "Execution Time:\n",
            "0.002 ms\n",
            "\n",
            "Test Result:\n",
            "\u001b[92mPASSED\u001b[0m\n",
            "\n",
            "\n",
            "\u001b[1mSUMMARY\u001b[0m\n",
            "\n",
            "TOTAL: 8, \u001b[92mPASSED\u001b[0m: 8, \u001b[91mFAILED\u001b[0m: 0\n"
          ],
          "name": "stdout"
        }
      ]
    }
  ]
}