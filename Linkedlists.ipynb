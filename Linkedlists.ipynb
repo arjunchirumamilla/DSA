{
  "nbformat": 4,
  "nbformat_minor": 0,
  "metadata": {
    "colab": {
      "name": "Linkedlists.ipynb",
      "provenance": [],
      "authorship_tag": "ABX9TyP9nYHGNYzkF6pO88lrUFLn",
      "include_colab_link": true
    },
    "kernelspec": {
      "name": "python3",
      "display_name": "Python 3"
    }
  },
  "cells": [
    {
      "cell_type": "markdown",
      "metadata": {
        "id": "view-in-github",
        "colab_type": "text"
      },
      "source": [
        "<a href=\"https://colab.research.google.com/github/pavan-elisetty/DSA-Jovian/blob/main/Linkedlists.ipynb\" target=\"_parent\"><img src=\"https://colab.research.google.com/assets/colab-badge.svg\" alt=\"Open In Colab\"/></a>"
      ]
    },
    {
      "cell_type": "markdown",
      "metadata": {
        "id": "UQi4F215U9wx"
      },
      "source": [
        "Basic construction and operations of Linkedlist"
      ]
    },
    {
      "cell_type": "code",
      "metadata": {
        "id": "0HGaxeo6VC24"
      },
      "source": [
        "class Node:\r\n",
        "  def __init__(self,a_number):\r\n",
        "    self.data=a_number\r\n",
        "    self.next=None\r\n"
      ],
      "execution_count": 1,
      "outputs": []
    },
    {
      "cell_type": "code",
      "metadata": {
        "id": "dWDgSH-SVN8N"
      },
      "source": [
        "class Linkedlist:\r\n",
        "  def __init__(self):\r\n",
        "    self.head=None"
      ],
      "execution_count": 2,
      "outputs": []
    },
    {
      "cell_type": "code",
      "metadata": {
        "id": "OWogOCfzVVsJ"
      },
      "source": [
        "node1=Node(1)\r\n",
        "node2=Node(2)\r\n",
        "node3=Node(3)"
      ],
      "execution_count": 3,
      "outputs": []
    },
    {
      "cell_type": "code",
      "metadata": {
        "id": "ie5tBirlVgBk"
      },
      "source": [
        "llist=Linkedlist()"
      ],
      "execution_count": 4,
      "outputs": []
    },
    {
      "cell_type": "code",
      "metadata": {
        "id": "hi_gwOY5Vj7j"
      },
      "source": [
        "llist.head=node1\r\n",
        "llist.head.next=node2\r\n",
        "llist.head.next.next=node3"
      ],
      "execution_count": 5,
      "outputs": []
    },
    {
      "cell_type": "code",
      "metadata": {
        "colab": {
          "base_uri": "https://localhost:8080/"
        },
        "id": "ui8XYjDaV7qa",
        "outputId": "0301210e-8334-4028-e61b-90c28ac2c5dd"
      },
      "source": [
        "llist.head.data,llist.head.next.data,llist.head.next.next.data"
      ],
      "execution_count": 8,
      "outputs": [
        {
          "output_type": "execute_result",
          "data": {
            "text/plain": [
              "(1, 2, 3)"
            ]
          },
          "metadata": {
            "tags": []
          },
          "execution_count": 8
        }
      ]
    },
    {
      "cell_type": "code",
      "metadata": {
        "colab": {
          "base_uri": "https://localhost:8080/"
        },
        "id": "vQHEXA-NV8p-",
        "outputId": "0581ef16-8c93-43b2-b5a1-1b970a2c5ad0"
      },
      "source": [
        "node1.next.data"
      ],
      "execution_count": 10,
      "outputs": [
        {
          "output_type": "execute_result",
          "data": {
            "text/plain": [
              "2"
            ]
          },
          "metadata": {
            "tags": []
          },
          "execution_count": 10
        }
      ]
    },
    {
      "cell_type": "code",
      "metadata": {
        "colab": {
          "base_uri": "https://localhost:8080/"
        },
        "id": "ZpS5joowWb5K",
        "outputId": "01b47374-4a7c-4e0c-95b9-e75101a296cb"
      },
      "source": [
        "llist,node1"
      ],
      "execution_count": 12,
      "outputs": [
        {
          "output_type": "execute_result",
          "data": {
            "text/plain": [
              "(<__main__.Linkedlist at 0x7f53a2126550>, <__main__.Node at 0x7f53a29cdc50>)"
            ]
          },
          "metadata": {
            "tags": []
          },
          "execution_count": 12
        }
      ]
    },
    {
      "cell_type": "code",
      "metadata": {
        "id": "0kLcKOp3W9fQ"
      },
      "source": [
        "# defining Linkedlist with multiple operations\r\n",
        "\r\n",
        "class Linkedlist:\r\n",
        "  def __init__(self):\r\n",
        "    self.head = None\r\n",
        "\r\n",
        "  def append(self,data):\r\n",
        "    if self.head is None:\r\n",
        "      self.head=Node(data)\r\n",
        "    else:\r\n",
        "      current_node=self.head\r\n",
        "      while current_node.next is not None:\r\n",
        "        current_node=current_node.next\r\n",
        "      current_node.next=Node(data)\r\n",
        "  \r\n",
        "  def show_elements(self):\r\n",
        "    current_node=self.head\r\n",
        "    while current_node is not None:\r\n",
        "      print(current_node.data)\r\n",
        "      current_node=current_node.next\r\n",
        "  \r\n",
        "  def length(self):\r\n",
        "    current_node=self.head\r\n",
        "    i=0\r\n",
        "    while current_node is not None:\r\n",
        "      i+=1\r\n",
        "      current_node=current_node.next\r\n",
        "    print('The length is',i)\r\n",
        "  \r\n",
        "  def get_element(self,position):\r\n",
        "    current_node=self.head\r\n",
        "    i=1\r\n",
        "    while i!=position:\r\n",
        "      current_node=current_node.next\r\n",
        "      i+=1\r\n",
        "    print(current_node.data)"
      ],
      "execution_count": 35,
      "outputs": []
    },
    {
      "cell_type": "code",
      "metadata": {
        "id": "htkROnITckox"
      },
      "source": [
        "list2=Linkedlist()"
      ],
      "execution_count": 36,
      "outputs": []
    },
    {
      "cell_type": "code",
      "metadata": {
        "colab": {
          "base_uri": "https://localhost:8080/"
        },
        "id": "50FTmxpSdDDM",
        "outputId": "55a6c732-a3c3-4c48-b1db-3206118ead79"
      },
      "source": [
        "list2.append(1)\r\n",
        "list2.append(2)\r\n",
        "list2.append(3)\r\n",
        "list2.show_elements()"
      ],
      "execution_count": 37,
      "outputs": [
        {
          "output_type": "stream",
          "text": [
            "1\n",
            "2\n",
            "3\n"
          ],
          "name": "stdout"
        }
      ]
    },
    {
      "cell_type": "code",
      "metadata": {
        "colab": {
          "base_uri": "https://localhost:8080/"
        },
        "id": "4Ox0IvoIdK13",
        "outputId": "67093d80-0aaa-4a4c-ed2d-25417f3a64e5"
      },
      "source": [
        "list2.length()"
      ],
      "execution_count": 38,
      "outputs": [
        {
          "output_type": "stream",
          "text": [
            "The length is 3\n"
          ],
          "name": "stdout"
        }
      ]
    },
    {
      "cell_type": "code",
      "metadata": {
        "colab": {
          "base_uri": "https://localhost:8080/"
        },
        "id": "XKQEdK84eVLe",
        "outputId": "3ddf7941-e885-45e9-cf54-7d79e51d0ba9"
      },
      "source": [
        "list2.get_element(3)"
      ],
      "execution_count": 39,
      "outputs": [
        {
          "output_type": "stream",
          "text": [
            "3\n"
          ],
          "name": "stdout"
        }
      ]
    },
    {
      "cell_type": "code",
      "metadata": {
        "id": "TqhMx9gMe7F7"
      },
      "source": [
        "def reverse(l):\r\n",
        "    if l.head is None:\r\n",
        "        return\r\n",
        "    \r\n",
        "    current_node = l.head\r\n",
        "    prev_node = None\r\n",
        "    \r\n",
        "    while current_node is not None:\r\n",
        "        # Track the next node\r\n",
        "        next_node = current_node.next\r\n",
        "        \r\n",
        "        # Modify the current node\r\n",
        "        current_node.next = prev_node\r\n",
        "        \r\n",
        "        # Update prev and current\r\n",
        "        prev_node = current_node\r\n",
        "        current_node = next_node\r\n",
        "        \r\n",
        "    l.head = prev_node"
      ],
      "execution_count": 44,
      "outputs": []
    },
    {
      "cell_type": "code",
      "metadata": {
        "id": "R2im2A7ck4m8"
      },
      "source": [
        "reverse(list2)"
      ],
      "execution_count": 45,
      "outputs": []
    }
  ]
}