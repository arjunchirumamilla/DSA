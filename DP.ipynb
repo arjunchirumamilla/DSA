{
  "nbformat": 4,
  "nbformat_minor": 0,
  "metadata": {
    "colab": {
      "name": "DP.ipynb",
      "provenance": [],
      "collapsed_sections": [],
      "authorship_tag": "ABX9TyO15vmoyJZvWNYOsVD8cy4o",
      "include_colab_link": true
    },
    "kernelspec": {
      "name": "python3",
      "display_name": "Python 3"
    },
    "language_info": {
      "name": "python"
    }
  },
  "cells": [
    {
      "cell_type": "markdown",
      "metadata": {
        "id": "view-in-github",
        "colab_type": "text"
      },
      "source": [
        "<a href=\"https://colab.research.google.com/github/pavan-elisetty/DSA-Jovian/blob/main/DP.ipynb\" target=\"_parent\"><img src=\"https://colab.research.google.com/assets/colab-badge.svg\" alt=\"Open In Colab\"/></a>"
      ]
    },
    {
      "cell_type": "markdown",
      "metadata": {
        "id": "3DV9rrWN_usf"
      },
      "source": [
        "**Dynamic Programming** - *overlapping subproblems*\n",
        "\n"
      ]
    },
    {
      "cell_type": "code",
      "metadata": {
        "colab": {
          "base_uri": "https://localhost:8080/"
        },
        "id": "p_0g7c2S_ffJ",
        "outputId": "edea2ffd-bd9d-408d-d23d-759817eac726"
      },
      "source": [
        "# fibnocci using recursion\n",
        "\n",
        "\n",
        "def fib(n):\n",
        "  if n<=1:    # for n=0 return 0 , for n=1 return 1\n",
        "    return n\n",
        "  return fib(n-1)+fib(n-2)\n",
        "fib(5)"
      ],
      "execution_count": 5,
      "outputs": [
        {
          "output_type": "execute_result",
          "data": {
            "text/plain": [
              "5"
            ]
          },
          "metadata": {
            "tags": []
          },
          "execution_count": 5
        }
      ]
    },
    {
      "cell_type": "code",
      "metadata": {
        "id": "WEsvZ9dGA1vi"
      },
      "source": [
        "table"
      ],
      "execution_count": null,
      "outputs": []
    },
    {
      "cell_type": "code",
      "metadata": {
        "colab": {
          "base_uri": "https://localhost:8080/"
        },
        "id": "c06q3bGvA-Kn",
        "outputId": "2d63126b-3a1b-4653-eeb6-67c9e003ce3a"
      },
      "source": [
        "#dynamic programming approach 1 \n",
        "\n",
        "# Memorization\n",
        "table=[None for i in range(30)] \n",
        "def fib_dp(n):\n",
        "\n",
        "  if table[n]==None:\n",
        "    if n<=1:\n",
        "      table[n]=n\n",
        "    else:\n",
        "      table[n]=fib_dp(n-1)+fib_dp(n-2)\n",
        "  return table[n]\n",
        "fib_dp(20)"
      ],
      "execution_count": 31,
      "outputs": [
        {
          "output_type": "execute_result",
          "data": {
            "text/plain": [
              "6765"
            ]
          },
          "metadata": {
            "tags": []
          },
          "execution_count": 31
        }
      ]
    },
    {
      "cell_type": "code",
      "metadata": {
        "colab": {
          "base_uri": "https://localhost:8080/"
        },
        "id": "q3nAZaMvDWhT",
        "outputId": "e15ea358-3764-4cce-a3cc-3bdc60ae5f57"
      },
      "source": [
        "table"
      ],
      "execution_count": 32,
      "outputs": [
        {
          "output_type": "execute_result",
          "data": {
            "text/plain": [
              "[0,\n",
              " 1,\n",
              " 1,\n",
              " 2,\n",
              " 3,\n",
              " 5,\n",
              " 8,\n",
              " 13,\n",
              " 21,\n",
              " 34,\n",
              " 55,\n",
              " 89,\n",
              " 144,\n",
              " 233,\n",
              " 377,\n",
              " 610,\n",
              " 987,\n",
              " 1597,\n",
              " 2584,\n",
              " 4181,\n",
              " 6765,\n",
              " None,\n",
              " None,\n",
              " None,\n",
              " None,\n",
              " None,\n",
              " None,\n",
              " None,\n",
              " None,\n",
              " None]"
            ]
          },
          "metadata": {
            "tags": []
          },
          "execution_count": 32
        }
      ]
    },
    {
      "cell_type": "code",
      "metadata": {
        "colab": {
          "base_uri": "https://localhost:8080/"
        },
        "id": "Aa4V9Dc2DhVz",
        "outputId": "14e358e5-8662-49d8-8abd-e462dc02b9bd"
      },
      "source": [
        "# Dynamic programming approach 2 usinng tabluation\n",
        "def feb_two(n):\n",
        "  table2=[0,1] \n",
        "  for i in range(2,n+1):\n",
        "    table2.append(table2[i-1]+table2[i-2])\n",
        "  return table2[n]\n",
        "feb_two(20)\n"
      ],
      "execution_count": 35,
      "outputs": [
        {
          "output_type": "execute_result",
          "data": {
            "text/plain": [
              "6765"
            ]
          },
          "metadata": {
            "tags": []
          },
          "execution_count": 35
        }
      ]
    },
    {
      "cell_type": "code",
      "metadata": {
        "id": "_g9pDJFXGo5y"
      },
      "source": [
        ""
      ],
      "execution_count": null,
      "outputs": []
    }
  ]
}